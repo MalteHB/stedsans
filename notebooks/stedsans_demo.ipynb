{
 "cells": [
  {
   "cell_type": "markdown",
   "metadata": {},
   "source": [
    "# `stedsans`"
   ]
  },
  {
   "cell_type": "markdown",
   "metadata": {},
   "source": [
    "This is a notebook showing the current and most prominent capabilities of `stedsans`. \n",
    "It is heavily recommended to run the notebook by using Google Colab:\n",
    "<br>\n",
    "<br>\n",
    "[![Open In Colab](https://colab.research.google.com/assets/colab-badge.svg)](https://colab.research.google.com/github/MalteHB/stedsans/blob/main/notebooks/stedsans_demo.ipynb)\n",
    "\n",
    "\n",
    "If running the notebook on your local machine consider installing [Anaconda](https://docs.anaconda.com/anaconda/install/) and then install the package `geopandas` to get the pre-built binaries, by using the `conda` package manager from an Anaconda integraged terminal:\n",
    "\n",
    "```bash\n",
    "conda install geopandas\n",
    "```"
   ]
  },
  {
   "cell_type": "markdown",
   "metadata": {},
   "source": [
    "## Setup"
   ]
  },
  {
   "cell_type": "markdown",
   "metadata": {},
   "source": [
    "We will start off by installing `stedsans` using the `pip` package manager."
   ]
  },
  {
   "cell_type": "code",
   "execution_count": 14,
   "metadata": {},
   "outputs": [],
   "source": [
    "!pip -q install stedsans"
   ]
  },
  {
   "cell_type": "markdown",
   "metadata": {},
   "source": [
    "If you are using either Google Colab, Linux or MacOS also feel free to install `geopandas` using `pip`, however, if you are using Windows OS install `geopandas` to by using the `conda` package manager."
   ]
  },
  {
   "cell_type": "code",
   "execution_count": 15,
   "metadata": {},
   "outputs": [],
   "source": [
    "# For Google Colab, Linux or MacOS:\n",
    "#!pip -q install geopandas\n",
    "\n",
    "# For Windows:\n",
    "# !conda install geopandas"
   ]
  },
  {
   "cell_type": "markdown",
   "metadata": {},
   "source": [
    "__Importing packages__"
   ]
  },
  {
   "cell_type": "markdown",
   "metadata": {},
   "source": [
    "We now import the main module from stedsans as well as two data loading classes."
   ]
  },
  {
   "cell_type": "code",
   "execution_count": 16,
   "metadata": {},
   "outputs": [],
   "source": [
    "from stedsans import stedsans\n",
    "from stedsans.data.load_data import Articles, GeoData"
   ]
  },
  {
   "cell_type": "markdown",
   "metadata": {},
   "source": [
    "## Language capabilities of `stedsans`"
   ]
  },
  {
   "cell_type": "markdown",
   "metadata": {},
   "source": [
    "`stedsans`is capable of taking a either a Danish or an English sentence, and extracting the entities by using either [Ælæctra](https://huggingface.co/Maltehb/-l-ctra-danish-electra-small-cased-ner-dane) or [BERT](https://huggingface.co/dslim/bert-base-NER), respectively.\n",
    "\n",
    "The intended use of `stedsans` is to initialize a stedsans object with a sentence."
   ]
  },
  {
   "cell_type": "code",
   "execution_count": 17,
   "metadata": {},
   "outputs": [],
   "source": [
    "# Define the sentence\n",
    "danish_sentence = \"Malte er mit navn, og jeg bor på Testvej 13, Aarhus C\"\n",
    "\n",
    "# By default stedsans assumes the language is Danish\n",
    "default_stedsans = stedsans(sentence = danish_sentence)"
   ]
  },
  {
   "cell_type": "markdown",
   "metadata": {},
   "source": [
    "After a `stedsans` instance with a sentence has been initialized one can simply call the 'extract_entities()' function and print the entities."
   ]
  },
  {
   "cell_type": "code",
   "execution_count": 18,
   "metadata": {},
   "outputs": [
    {
     "name": "stdout",
     "output_type": "stream",
     "text": [
      "[('Malte', 'PER'), ('Testvej 13', 'LOC'), ('Aarhus C', 'LOC')]\n"
     ]
    }
   ],
   "source": [
    "default_entities = default_stedsans.extract_entities()\n",
    "\n",
    "print(default_entities)"
   ]
  },
  {
   "cell_type": "markdown",
   "metadata": {},
   "source": [
    "### Multilinguistic stedsans \n",
    "#### (duolinguistic for now...)\n",
    "By default `stedsans` assumes the language is Danish, but we can also be specified using the 'language' argument. `stedsans` is currently only capable of predicting Danish and English sentences, but future enhancements will include increased language variety."
   ]
  },
  {
   "cell_type": "code",
   "execution_count": 19,
   "metadata": {},
   "outputs": [
    {
     "name": "stdout",
     "output_type": "stream",
     "text": [
      "[('Malte', 'PER'), ('Testvej 13', 'LOC'), ('Aarhus C', 'LOC')]\n"
     ]
    }
   ],
   "source": [
    "danish_stedsans = stedsans(danish_sentence, language=\"danish\")\n",
    "\n",
    "danish_entities = danish_stedsans.extract_entities()\n",
    "\n",
    "print(danish_entities)"
   ]
  },
  {
   "cell_type": "code",
   "execution_count": 20,
   "metadata": {},
   "outputs": [
    {
     "name": "stdout",
     "output_type": "stream",
     "text": [
      "[('Malte', 'PER'), ('Aarhus C', 'LOC')]\n"
     ]
    }
   ],
   "source": [
    "english_sentence = \"Hello my name is Malte and i live in Aarhus C\"\n",
    "\n",
    "english_stedsans = stedsans(english_sentence, language=\"english\")\n",
    "\n",
    "english_entities = english_stedsans.extract_entities()\n",
    "\n",
    "print(english_entities)"
   ]
  },
  {
   "cell_type": "markdown",
   "metadata": {},
   "source": [
    "A `stedsance` instance has been initialized we also use it for predicting other sentences."
   ]
  },
  {
   "cell_type": "code",
   "execution_count": 21,
   "metadata": {},
   "outputs": [
    {
     "name": "stdout",
     "output_type": "stream",
     "text": [
      "[('Jakob', 'PER'), ('Aarhus', 'LOC'), ('C', 'LOC')]\n"
     ]
    }
   ],
   "source": [
    "new_danish_sentence = \"Jakob er min gode samarbejdspartners navn, og han bor også i Aarhus C\"\n",
    "\n",
    "danish_sentence_entities = default_stedsans.extract_entities(new_danish_sentence)\n",
    "\n",
    "print(danish_sentence_entities)"
   ]
  },
  {
   "cell_type": "code",
   "execution_count": 22,
   "metadata": {},
   "outputs": [
    {
     "name": "stdout",
     "output_type": "stream",
     "text": [
      "[('Jakob', 'PER'), ('Aarhus', 'LOC')]\n"
     ]
    }
   ],
   "source": [
    "new_english_sentence = \"Jakob is the name my good cooperator, and he also lives in Aarhus C\"\n",
    "\n",
    "english_sentence_entities = english_stedsans.extract_entities(new_english_sentence)\n",
    "\n",
    "print(english_sentence_entities)"
   ]
  },
  {
   "cell_type": "markdown",
   "metadata": {},
   "source": [
    "Notice here how the different models have different predictive capabilities. The Danish Ælæctra notices 'C' as part of the location whereas BERT does not."
   ]
  },
  {
   "cell_type": "markdown",
   "metadata": {},
   "source": [
    "## Geographic capabilities of `stedsans`\n",
    "\n",
    "To show the basic geographical functionalities of stedsans we will start of by initializing a stedsans object with an English text string, and printing the found location and organization entities."
   ]
  },
  {
   "cell_type": "code",
   "execution_count": 23,
   "metadata": {},
   "outputs": [
    {
     "name": "stdout",
     "output_type": "stream",
     "text": [
      "[   ('Testvej 13 Aarhus C', 'LOC'),\n",
      "    ('Testparken Aarhus C', 'LOC'),\n",
      "    ('MCH Arena', 'ORG'),\n",
      "    ('Dejbjerglund Efterskole', 'LOC'),\n",
      "    ('Randers', 'LOC'),\n",
      "    ('LEGOLAND', 'ORG'),\n",
      "    ('Skanderborg Bryghus', 'LOC'),\n",
      "    ('AGF', 'ORG'),\n",
      "    ('Ingerslevs Boulevard', 'LOC'),\n",
      "    ('Fjordgaarden', 'LOC'),\n",
      "    ('Knebel', 'LOC'),\n",
      "    ('Mols Djursland', 'LOC'),\n",
      "    ('Vestebro', 'LOC'),\n",
      "    ('Østerbro', 'LOC'),\n",
      "    ('Amager', 'LOC'),\n",
      "    ('Bruuns Galleri', 'LOC'),\n",
      "    ('Dokk1', 'LOC'),\n",
      "    ('Aarhus', 'LOC')]\n"
     ]
    }
   ],
   "source": [
    "txt = \"Han bor på Testvej 13 Aarhus C. Jakob bor i Testparken Aarhus C. \\\n",
    "            MCH Arena er et legendarisk sted. Hun bor tæt på Dejbjerglund Efterskole. \\\n",
    "            I Randers laver man shawarma. LEGOLAND er det fedeste sted. Skanderborg Bryghus \\\n",
    "            laver gode øl. AGF er et ringe hold. Han bor på Ingerslevs Boulevard. Fjordgaarden \\\n",
    "            er en lækker restaurant. Knebel ligger på Mols Djursland. Vestebro ligger vest for \\\n",
    "            Østerbro og tæt på Amager. Bruuns Galleri og Dokk1 er steder i Aarhus.\"\n",
    "\n",
    "geo_demo = stedsans(sentence = txt, language = 'danish')\n",
    "\n",
    "geo_demo.print_entities()"
   ]
  },
  {
   "cell_type": "markdown",
   "metadata": {},
   "source": [
    "We can then use the 'get_coordinates()' function, to obtain both the a list of coordinates, a `pandas`dataframe and a `geopandas`dataframe."
   ]
  },
  {
   "cell_type": "code",
   "execution_count": 24,
   "metadata": {},
   "outputs": [
    {
     "name": "stdout",
     "output_type": "stream",
     "text": [
      "List of coordinates:\n",
      " [[56.11690805, 8.95090626379648], [56.007349149999996, 8.418548397993728], [56.4800019, 10.0891444], [55.735931050000005, 9.126759387129225], [56.05082275, 9.94509834643894], [44.17395835, 0.5933200933739851], [56.1447115, 10.1950871], [55.666663, 9.697003], [56.21409615, 10.486067290407115], [56.22668755, 10.571935253435392], [55.7050841, 12.5826141], [55.62437565, 12.603853037516306], [56.14901465, 10.204766472313928], [56.15341825, 10.21417248765583], [56.1496278, 10.2134046]]\n"
     ]
    }
   ],
   "source": [
    "coords, df, gdf = geo_demo.get_coordinates()\n",
    "\n",
    "print(\"List of coordinates:\\n\", coords)"
   ]
  },
  {
   "cell_type": "code",
   "execution_count": 25,
   "metadata": {
    "scrolled": false
   },
   "outputs": [
    {
     "name": "stdout",
     "output_type": "stream",
     "text": [
      "First five rows of the pandas dataframe:\n",
      "                                                places   latitude  longitude  \\\n",
      "0   (MCH Arena, Kaj Zartows Vej, Messecenter Herni...  56.116908   8.950906   \n",
      "1   (Dejbjerglund Efterskole, Uglbjergvej, Vester ...  56.007349   8.418548   \n",
      "2   (Randers NØ, Randers, Randers Kommune, 8930, D...  56.480002  10.089144   \n",
      "3   (Legoland, Åstvej, Billund, Billund Kommune, R...  55.735931   9.126759   \n",
      "4   (Skanderborg Bryghus, Danmarksvej, Højvangen, ...  56.050823   9.945098   \n",
      "5   (Aérodrome d'Agen-La Garenne, Chemin de Labast...  44.173958   0.593320   \n",
      "6   (Ingerslevs Boulevard, Frederiksbjerg, Aarhus,...  56.144711  10.195087   \n",
      "7   (Fjordgaarden, 116, Gauerslund Skovvej, Børkop...  55.666663   9.697003   \n",
      "8   (Knebel, Syddjurs Kommune, Danmark, (56.214096...  56.214096  10.486067   \n",
      "9   (Besøgscenter Øvre Strandkær, Strandkærvej, St...  56.226688  10.571935   \n",
      "10  (Østerbro, København, Københavns Kommune, Regi...  55.705084  12.582614   \n",
      "11  (Amager, Region Hovedstaden, Danmark, (55.6243...  55.624376  12.603853   \n",
      "12  (Bruuns Galleri, H.N. Clausens Gade, Frederiks...  56.149015  10.204766   \n",
      "13  (Dokk1, Hack Kampmanns Plads, Aarhus, Aarhus K...  56.153418  10.214172   \n",
      "14  (Aarhus, Aarhus Kommune, Region Midtjylland, 8...  56.149628  10.213405   \n",
      "\n",
      "                     geometry  \n",
      "0    POINT (8.95091 56.11691)  \n",
      "1    POINT (8.41855 56.00735)  \n",
      "2   POINT (10.08914 56.48000)  \n",
      "3    POINT (9.12676 55.73593)  \n",
      "4    POINT (9.94510 56.05082)  \n",
      "5    POINT (0.59332 44.17396)  \n",
      "6   POINT (10.19509 56.14471)  \n",
      "7    POINT (9.69700 55.66666)  \n",
      "8   POINT (10.48607 56.21410)  \n",
      "9   POINT (10.57194 56.22669)  \n",
      "10  POINT (12.58261 55.70508)  \n",
      "11  POINT (12.60385 55.62438)  \n",
      "12  POINT (10.20477 56.14901)  \n",
      "13  POINT (10.21417 56.15342)  \n",
      "14  POINT (10.21340 56.14963)  \n"
     ]
    }
   ],
   "source": [
    "print(\"First five rows of the pandas dataframe:\\n\",df)"
   ]
  },
  {
   "cell_type": "code",
   "execution_count": 26,
   "metadata": {
    "scrolled": true
   },
   "outputs": [
    {
     "name": "stdout",
     "output_type": "stream",
     "text": [
      "First five rows of the geopandas dataframe:\n",
      "                                                places   latitude  longitude  \\\n",
      "0   (MCH Arena, Kaj Zartows Vej, Messecenter Herni...  56.116908   8.950906   \n",
      "1   (Dejbjerglund Efterskole, Uglbjergvej, Vester ...  56.007349   8.418548   \n",
      "2   (Randers NØ, Randers, Randers Kommune, 8930, D...  56.480002  10.089144   \n",
      "3   (Legoland, Åstvej, Billund, Billund Kommune, R...  55.735931   9.126759   \n",
      "4   (Skanderborg Bryghus, Danmarksvej, Højvangen, ...  56.050823   9.945098   \n",
      "5   (Aérodrome d'Agen-La Garenne, Chemin de Labast...  44.173958   0.593320   \n",
      "6   (Ingerslevs Boulevard, Frederiksbjerg, Aarhus,...  56.144711  10.195087   \n",
      "7   (Fjordgaarden, 116, Gauerslund Skovvej, Børkop...  55.666663   9.697003   \n",
      "8   (Knebel, Syddjurs Kommune, Danmark, (56.214096...  56.214096  10.486067   \n",
      "9   (Besøgscenter Øvre Strandkær, Strandkærvej, St...  56.226688  10.571935   \n",
      "10  (Østerbro, København, Københavns Kommune, Regi...  55.705084  12.582614   \n",
      "11  (Amager, Region Hovedstaden, Danmark, (55.6243...  55.624376  12.603853   \n",
      "12  (Bruuns Galleri, H.N. Clausens Gade, Frederiks...  56.149015  10.204766   \n",
      "13  (Dokk1, Hack Kampmanns Plads, Aarhus, Aarhus K...  56.153418  10.214172   \n",
      "14  (Aarhus, Aarhus Kommune, Region Midtjylland, 8...  56.149628  10.213405   \n",
      "\n",
      "                     geometry  \n",
      "0    POINT (8.95091 56.11691)  \n",
      "1    POINT (8.41855 56.00735)  \n",
      "2   POINT (10.08914 56.48000)  \n",
      "3    POINT (9.12676 55.73593)  \n",
      "4    POINT (9.94510 56.05082)  \n",
      "5    POINT (0.59332 44.17396)  \n",
      "6   POINT (10.19509 56.14471)  \n",
      "7    POINT (9.69700 55.66666)  \n",
      "8   POINT (10.48607 56.21410)  \n",
      "9   POINT (10.57194 56.22669)  \n",
      "10  POINT (12.58261 55.70508)  \n",
      "11  POINT (12.60385 55.62438)  \n",
      "12  POINT (10.20477 56.14901)  \n",
      "13  POINT (10.21417 56.15342)  \n",
      "14  POINT (10.21340 56.14963)  \n"
     ]
    }
   ],
   "source": [
    "print(\"First five rows of the geopandas dataframe:\\n\",gdf)"
   ]
  },
  {
   "cell_type": "markdown",
   "metadata": {},
   "source": [
    "As we see the two dataframes are essentially the same, however, their types are different and the `geopandas` dataframe offers additional geoanalytical features compared to the `pandas`dataframe."
   ]
  },
  {
   "cell_type": "markdown",
   "metadata": {},
   "source": [
    "## Basic visualisation: Plotting points onto a map"
   ]
  },
  {
   "cell_type": "code",
   "execution_count": null,
   "metadata": {},
   "outputs": [],
   "source": [
    "danmark = GeoData.municipalities()\n",
    "region_m = danmark[danmark[\"REGIONNAVN\"] == \"Region Midtjylland\"]"
   ]
  },
  {
   "cell_type": "markdown",
   "metadata": {},
   "source": [
    "Interactive folium map"
   ]
  },
  {
   "cell_type": "code",
   "execution_count": null,
   "metadata": {},
   "outputs": [],
   "source": [
    "geo_demo.plot_locations()"
   ]
  },
  {
   "cell_type": "markdown",
   "metadata": {},
   "source": [
    "Plotting onto a passed map layer (shp file)"
   ]
  },
  {
   "cell_type": "code",
   "execution_count": null,
   "metadata": {},
   "outputs": [],
   "source": [
    "shp_map = geo_demo.plot_locations(layer=danmark)"
   ]
  },
  {
   "cell_type": "code",
   "execution_count": null,
   "metadata": {},
   "outputs": [],
   "source": [
    "geo_demo.plot_locations(layer=danmark)"
   ]
  },
  {
   "cell_type": "markdown",
   "metadata": {},
   "source": [
    "# Perform basic statistcal point pattern tests"
   ]
  },
  {
   "cell_type": "markdown",
   "metadata": {},
   "source": [
    "These Q-statistics functions enable a quick statistical analysis of distribution of the points by checking for complete spatial randomness. "
   ]
  },
  {
   "cell_type": "code",
   "execution_count": null,
   "metadata": {},
   "outputs": [],
   "source": [
    "# Initialsing a stedsans objects\n",
    "example = stedsans(sentence=txt)\n",
    "\n",
    "# Getting quadrat statistics\n",
    "example.print_entities()\n"
   ]
  },
  {
   "cell_type": "code",
   "execution_count": null,
   "metadata": {},
   "outputs": [],
   "source": [
    "example.get_quad_stats()"
   ]
  },
  {
   "cell_type": "code",
   "execution_count": null,
   "metadata": {},
   "outputs": [],
   "source": [
    "# Plotting points with quadrants\n",
    "example.plot_quad_count(squares = 4)"
   ]
  },
  {
   "cell_type": "markdown",
   "metadata": {},
   "source": [
    "# Plotting region heatnmaps on a given map layer"
   ]
  },
  {
   "cell_type": "markdown",
   "metadata": {},
   "source": [
    "This tool gives a beuatiful visual representation of the distribution of the extracted locations. The level of partitioning can be set using the *group_by* parameter."
   ]
  },
  {
   "cell_type": "markdown",
   "metadata": {},
   "source": [
    "By default `plot_cloropleth()` plots the world."
   ]
  },
  {
   "cell_type": "code",
   "execution_count": null,
   "metadata": {},
   "outputs": [],
   "source": [
    " geo_demo.plot_choropleth()"
   ]
  },
  {
   "cell_type": "markdown",
   "metadata": {},
   "source": [
    "One can also use the argument `layer` to specify a geopandas dataframe to plot on."
   ]
  },
  {
   "cell_type": "code",
   "execution_count": null,
   "metadata": {},
   "outputs": [],
   "source": [
    "danmark_cloropleth = geo_demo.plot_choropleth(layer=danmark)\n",
    "danmark_cloropleth"
   ]
  },
  {
   "cell_type": "code",
   "execution_count": null,
   "metadata": {},
   "outputs": [],
   "source": [
    "denmark_heatmap_by_region = geo_demo.plot_choropleth(layer=danmark, group_by='REGIONNAVN')\n",
    "denmark_heatmap_by_region"
   ]
  },
  {
   "cell_type": "code",
   "execution_count": null,
   "metadata": {},
   "outputs": [],
   "source": [
    " region_m_heatmap = geo_demo.plot_choropleth(layer=region_m, title = 'Region Midtjylland', group_by = 'DAGI_ID')\n",
    " region_m_heatmap"
   ]
  },
  {
   "cell_type": "markdown",
   "metadata": {},
   "source": [
    "# Aarhus article example for exam paper"
   ]
  },
  {
   "cell_type": "code",
   "execution_count": null,
   "metadata": {},
   "outputs": [],
   "source": [
    "aarhus_article = Articles.aarhus()"
   ]
  },
  {
   "cell_type": "code",
   "execution_count": null,
   "metadata": {},
   "outputs": [],
   "source": [
    "geo_demo = stedsans(file = aarhus_article, language = 'danish')"
   ]
  },
  {
   "cell_type": "code",
   "execution_count": null,
   "metadata": {},
   "outputs": [],
   "source": [
    "coords, df, gdf = geo_demo.get_coordinates()"
   ]
  },
  {
   "cell_type": "code",
   "execution_count": null,
   "metadata": {},
   "outputs": [],
   "source": [
    "df"
   ]
  },
  {
   "cell_type": "code",
   "execution_count": null,
   "metadata": {},
   "outputs": [],
   "source": [
    "geo_demo.plot_heatmap()"
   ]
  },
  {
   "cell_type": "code",
   "execution_count": null,
   "metadata": {},
   "outputs": [],
   "source": [
    "geo_demo.plot_heatmap(limit = 'country', limit_area = 'Danmark')"
   ]
  },
  {
   "cell_type": "code",
   "execution_count": null,
   "metadata": {},
   "outputs": [],
   "source": [
    "geo_demo.plot_heatmap(bounding_box=((55.859900,7.630005),(56.613931,10.958862)), bounded=True)"
   ]
  },
  {
   "cell_type": "code",
   "execution_count": null,
   "metadata": {},
   "outputs": [],
   "source": [
    "geo_demo.plot_heatmap(bounding_box=((55.9,7.6),(56.6,10.9)), bounded=False)"
   ]
  },
  {
   "cell_type": "markdown",
   "metadata": {},
   "source": [
    "####  Choropleth"
   ]
  },
  {
   "cell_type": "code",
   "execution_count": null,
   "metadata": {},
   "outputs": [],
   "source": [
    " geo_demo.plot_choropleth()  # This might take a while :)"
   ]
  },
  {
   "cell_type": "code",
   "execution_count": null,
   "metadata": {},
   "outputs": [],
   "source": [
    "danmark_cloropleth = geo_demo.plot_choropleth(layer=danmark)\n",
    "danmark_cloropleth"
   ]
  },
  {
   "cell_type": "code",
   "execution_count": null,
   "metadata": {},
   "outputs": [],
   "source": [
    "denmark_heatmap_by_region = geo_demo.plot_choropleth(layer=danmark, group_by='REGIONNAVN')\n",
    "denmark_heatmap_by_region"
   ]
  },
  {
   "cell_type": "code",
   "execution_count": null,
   "metadata": {},
   "outputs": [],
   "source": [
    " region_m_heatmap = geo_demo.plot_choropleth(layer=region_m, title = 'Region Midtjylland', group_by = 'DAGI_ID')\n",
    " region_m_heatmap"
   ]
  },
  {
   "cell_type": "markdown",
   "metadata": {},
   "source": [
    "# Den Store Danske - Jylland"
   ]
  },
  {
   "cell_type": "markdown",
   "metadata": {},
   "source": [
    "## Reading in the article"
   ]
  },
  {
   "cell_type": "code",
   "execution_count": null,
   "metadata": {},
   "outputs": [],
   "source": [
    "jylland_article = Articles.jylland()"
   ]
  },
  {
   "cell_type": "markdown",
   "metadata": {},
   "source": [
    "## Initialising stedsans object"
   ]
  },
  {
   "cell_type": "code",
   "execution_count": null,
   "metadata": {},
   "outputs": [],
   "source": [
    "geo_demo = stedsans(file = jylland_article, language = 'danish')"
   ]
  },
  {
   "cell_type": "markdown",
   "metadata": {},
   "source": [
    "## Plotting locations"
   ]
  },
  {
   "cell_type": "markdown",
   "metadata": {},
   "source": [
    "### Plotting on interactive leaflet map"
   ]
  },
  {
   "cell_type": "code",
   "execution_count": null,
   "metadata": {},
   "outputs": [],
   "source": [
    "geo_demo.plot_locations()"
   ]
  },
  {
   "cell_type": "markdown",
   "metadata": {},
   "source": [
    "## Plotting on shapefile layer"
   ]
  },
  {
   "cell_type": "code",
   "execution_count": null,
   "metadata": {},
   "outputs": [],
   "source": [
    "geo_demo.plot_locations(layer=danmark, on_map=True)"
   ]
  },
  {
   "cell_type": "code",
   "execution_count": null,
   "metadata": {},
   "outputs": [],
   "source": [
    "geo_demo.plot_locations(layer=region_m, on_map=True)"
   ]
  },
  {
   "cell_type": "markdown",
   "metadata": {},
   "source": [
    "## Plotting heatmaps"
   ]
  },
  {
   "cell_type": "markdown",
   "metadata": {},
   "source": [
    "### No restrictions"
   ]
  },
  {
   "cell_type": "code",
   "execution_count": null,
   "metadata": {},
   "outputs": [],
   "source": [
    "geo_demo.plot_heatmap()"
   ]
  },
  {
   "cell_type": "markdown",
   "metadata": {},
   "source": [
    "### Plotting only locations in denmark"
   ]
  },
  {
   "cell_type": "code",
   "execution_count": null,
   "metadata": {},
   "outputs": [],
   "source": [
    "geo_demo.plot_heatmap(limit = 'country', limit_area = 'Danmark')"
   ]
  },
  {
   "cell_type": "markdown",
   "metadata": {},
   "source": [
    "### Boudning search area to Region Midtjylland"
   ]
  },
  {
   "cell_type": "code",
   "execution_count": null,
   "metadata": {},
   "outputs": [],
   "source": [
    "geo_demo.plot_heatmap(bounding_box=((55.9,7.6),(56.6,10.9)), bounded=True)"
   ]
  },
  {
   "cell_type": "markdown",
   "metadata": {},
   "source": [
    "## Choropleth maps"
   ]
  },
  {
   "cell_type": "markdown",
   "metadata": {},
   "source": [
    "### Plotting choropleth map of points bounded to Region Midtjylland on map of Denmark"
   ]
  },
  {
   "cell_type": "code",
   "execution_count": null,
   "metadata": {},
   "outputs": [],
   "source": [
    "geo_demo.plot_choropleth(layer=danmark, title='Jylland - Den Store Danske \\n Bounded to Region Midtjylland', group_by='DAGI_ID', bounding_box=((55.9,7.6),(56.6, 10.9)), bounded=True)"
   ]
  },
  {
   "cell_type": "markdown",
   "metadata": {},
   "source": [
    "### Plotting choropleth map grouped by region"
   ]
  },
  {
   "cell_type": "code",
   "execution_count": null,
   "metadata": {},
   "outputs": [],
   "source": [
    "geo_demo.plot_choropleth(layer=danmark, title='Jylland - Den Store Danske \\n Grouped by Region', group_by='REGIONNAVN', bounding_box=((54.6,7.8),(57.8, 15.2)), bounded=False)"
   ]
  },
  {
   "cell_type": "markdown",
   "metadata": {},
   "source": [
    "### Plotting choropleth map grouped by municipalites"
   ]
  },
  {
   "cell_type": "code",
   "execution_count": null,
   "metadata": {},
   "outputs": [],
   "source": [
    "geo_demo.plot_choropleth(layer=danmark, title='Jylland - Den Store Danske \\n Unbounded', group_by='DAGI_ID')"
   ]
  },
  {
   "cell_type": "markdown",
   "metadata": {},
   "source": [
    "## Quadrat Statistics"
   ]
  },
  {
   "cell_type": "code",
   "execution_count": null,
   "metadata": {},
   "outputs": [],
   "source": [
    "geo_demo.get_quad_stats(limit = 'country', limit_area = 'Danmark')"
   ]
  },
  {
   "cell_type": "code",
   "execution_count": null,
   "metadata": {},
   "outputs": [],
   "source": [
    "geo_demo.plot_quad_count(limit = 'country', limit_area = 'Danmark')"
   ]
  }
 ],
 "metadata": {
  "kernelspec": {
   "display_name": "Python 3",
   "language": "python",
   "name": "python3"
  },
  "language_info": {
   "codemirror_mode": {
    "name": "ipython",
    "version": 3
   },
   "file_extension": ".py",
   "mimetype": "text/x-python",
   "name": "python",
   "nbconvert_exporter": "python",
   "pygments_lexer": "ipython3",
   "version": "3.8.8"
  },
  "metadata": {
   "interpreter": {
    "hash": "10b97c6c21ac6fb33c26ad64795ebf8e3a140a6e7f42652360920d249612f124"
   }
  }
 },
 "nbformat": 4,
 "nbformat_minor": 2
}
