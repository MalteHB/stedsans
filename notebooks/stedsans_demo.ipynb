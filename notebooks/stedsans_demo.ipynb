{
 "cells": [
  {
   "cell_type": "markdown",
   "metadata": {},
   "source": [
    "# `stedsans`"
   ]
  },
  {
   "cell_type": "markdown",
   "metadata": {},
   "source": [
    "This is a notebook showing the current and most prominent capabilities of `stedsans`. \n",
    "It is heavily recommended to run the notebook by using Google Colab:\n",
    "<br>\n",
    "<br>\n",
    "[![Open In Colab](https://colab.research.google.com/assets/colab-badge.svg)](https://colab.research.google.com/github/MalteHB/stedsans/blob/main/notebooks/stedsans_demo.ipynb)\n",
    "\n",
    "\n",
    "If running the notebook on your local machine consider installing [Anaconda](https://docs.anaconda.com/anaconda/install/) and then install the package `geopandas` to get the pre-built binaries, by using the `conda` package manager from an Anaconda integraged terminal:\n",
    "\n",
    "```bash\n",
    "conda install geopandas\n",
    "```"
   ]
  },
  {
   "cell_type": "markdown",
   "metadata": {},
   "source": [
    "## Setup"
   ]
  },
  {
   "cell_type": "markdown",
   "metadata": {},
   "source": [
    "We will start off by installing `stedsans` using the `pip` package manager."
   ]
  },
  {
   "cell_type": "code",
   "execution_count": null,
   "metadata": {},
   "outputs": [],
   "source": [
    "!pip install -q stedsans==0.0.13a0"
   ]
  },
  {
   "cell_type": "markdown",
   "metadata": {},
   "source": [
    "If you are using either Google Colab, Linux or MacOS also feel free to install `geopandas` using `pip`, however, if you are using Windows OS install `geopandas` to by using the `conda` package manager."
   ]
  },
  {
   "cell_type": "code",
   "execution_count": null,
   "metadata": {},
   "outputs": [],
   "source": [
    "# For Google Colab, Linux or MacOS:\n",
    "!pip -q install geopandas==0.9.0"
   ]
  },
  {
   "cell_type": "markdown",
   "metadata": {},
   "source": [
    "__Importing packages__"
   ]
  },
  {
   "cell_type": "markdown",
   "metadata": {},
   "source": [
    "We start off by importing the main module of `stedsans`."
   ]
  },
  {
   "cell_type": "code",
   "execution_count": null,
   "metadata": {},
   "outputs": [],
   "source": [
    "from stedsans import stedsans"
   ]
  },
  {
   "cell_type": "markdown",
   "metadata": {},
   "source": [
    "## Language capabilities of `stedsans`"
   ]
  },
  {
   "cell_type": "markdown",
   "metadata": {},
   "source": [
    "`stedsans` is capable of taking a either a Danish or an English sentence, and extracting the entities by using either [Ælæctra](https://huggingface.co/Maltehb/-l-ctra-danish-electra-small-cased-ner-dane) or [BERT](https://huggingface.co/dslim/bert-base-NER), respectively.\n",
    "\n",
    "The intended use of `stedsans` is to initialize a stedsans object with a text input."
   ]
  },
  {
   "cell_type": "code",
   "execution_count": null,
   "metadata": {},
   "outputs": [],
   "source": [
    "# Define the sentence\n",
    "danish_sentence = \"Malte er mit navn, og jeg bor på Testvej 13, Aarhus C\"\n",
    "\n",
    "# By default stedsans assumes the language is Danish\n",
    "default_stedsans = stedsans(sentence = danish_sentence)"
   ]
  },
  {
   "cell_type": "markdown",
   "metadata": {},
   "source": [
    "After a `stedsans` instance with a sentence has been initialized one can simply call the `extract_entities()` function and print the entities."
   ]
  },
  {
   "cell_type": "code",
   "execution_count": null,
   "metadata": {},
   "outputs": [],
   "source": [
    "default_entities = default_stedsans.extract_entities()\n",
    "\n",
    "print(default_entities)"
   ]
  },
  {
   "cell_type": "markdown",
   "metadata": {},
   "source": [
    "### Multilinguistic stedsans \n",
    "#### (duolinguistic for now...)\n",
    "By default `stedsans` assumes the language is Danish, but we can also be specified using the 'language' argument. `stedsans` is currently only capable of predicting Danish and English sentences, but future enhancements will include increased language variety."
   ]
  },
  {
   "cell_type": "code",
   "execution_count": null,
   "metadata": {},
   "outputs": [],
   "source": [
    "danish_stedsans = stedsans(danish_sentence, \n",
    "                           language=\"danish\")\n",
    "\n",
    "danish_entities = danish_stedsans.extract_entities()\n",
    "\n",
    "print(danish_entities)"
   ]
  },
  {
   "cell_type": "code",
   "execution_count": null,
   "metadata": {},
   "outputs": [],
   "source": [
    "english_sentence = \"Hello my name is Malte and i live in Aarhus C\"\n",
    "\n",
    "english_stedsans = stedsans(english_sentence, \n",
    "                            language=\"english\")\n",
    "\n",
    "english_entities = english_stedsans.extract_entities()\n",
    "\n",
    "print(english_entities)"
   ]
  },
  {
   "cell_type": "markdown",
   "metadata": {},
   "source": [
    "A `stedsance` instance has been initialized we also use it for predicting other sentences."
   ]
  },
  {
   "cell_type": "code",
   "execution_count": null,
   "metadata": {},
   "outputs": [],
   "source": [
    "new_danish_sentence = \"Jakob er min gode samarbejdspartners navn, og han bor også i Aarhus C\"\n",
    "\n",
    "danish_sentence_entities = default_stedsans.extract_entities(new_danish_sentence)\n",
    "\n",
    "print(danish_sentence_entities)"
   ]
  },
  {
   "cell_type": "code",
   "execution_count": null,
   "metadata": {},
   "outputs": [],
   "source": [
    "new_english_sentence = \"Jakob is the name my good cooperator, and he also lives in Aarhus C\"\n",
    "\n",
    "english_sentence_entities = english_stedsans.extract_entities(new_english_sentence)\n",
    "\n",
    "print(english_sentence_entities)"
   ]
  },
  {
   "cell_type": "markdown",
   "metadata": {},
   "source": [
    "Notice here how the different models have different predictive capabilities. The Danish Ælæctra notices *'C'* as part of the location whereas BERT does not."
   ]
  },
  {
   "cell_type": "markdown",
   "metadata": {},
   "source": [
    "## Geographic capabilities of `stedsans`\n",
    "\n",
    "To show the basic geospatial functionalities of stedsans we will start of by initializing a stedsans instance, `geo_demo`, with an English text string, and printing the found location and organization entities."
   ]
  },
  {
   "cell_type": "code",
   "execution_count": null,
   "metadata": {},
   "outputs": [],
   "source": [
    "txt = \"Stedsans was developed by two knights who both live in Aarhus C. \\\n",
    "        They are both fans of FC Midtjylland which is a football team residing at MCH Arena. \\\n",
    "        One comes from Randers, which is home to one of the best beers in the world. \\\n",
    "        The other comes from a small city, not too far from LEGOLAND. \\\n",
    "        One of their favourite locations is Knebel which is located on Mols Djursland. \\\n",
    "        They are not hateful people, but they are not too fond of AGF. What is there really to like about AGF? \\\n",
    "        If you ever come close to Aarhus, feel free to pay them a visit. \\\n",
    "        They will gladly take you on a tourist tour to both see Bruuns Galleri and Dokk1. \\\n",
    "        And if you like beer they will gladly beknight you at Guldhornene Aarhus.\"\n",
    "\n",
    "geo_demo = stedsans(sentence = txt, \n",
    "                    language = 'english')\n",
    "\n",
    "geo_demo.print_entities()"
   ]
  },
  {
   "cell_type": "markdown",
   "metadata": {},
   "source": [
    "We can then use the `get_coordinates()` function, to obtain both the a list of coordinates, a `pandas` dataframe and a `geopandas` geodataframe."
   ]
  },
  {
   "cell_type": "code",
   "execution_count": null,
   "metadata": {},
   "outputs": [],
   "source": [
    "coords, df, gdf = geo_demo.get_coordinates()\n",
    "\n",
    "print(\"List of coordinates:\\n\", \n",
    "      coords)"
   ]
  },
  {
   "cell_type": "code",
   "execution_count": null,
   "metadata": {
    "scrolled": false
   },
   "outputs": [],
   "source": [
    "print(\"Overview of the pandas dataframe:\\n\",\n",
    "      df)"
   ]
  },
  {
   "cell_type": "code",
   "execution_count": null,
   "metadata": {
    "scrolled": true
   },
   "outputs": [],
   "source": [
    "print(\"Overview of the geopandas dataframe:\\n\",\n",
    "      gdf)"
   ]
  },
  {
   "cell_type": "markdown",
   "metadata": {},
   "source": [
    "As we see the two dataframes are different in that the `geopandas` dataframe also contains the `geometry` column, which enables a user of `stedsans` to do additional geoanalytical analyses. Also note how the geoparsing fails at geocoding one of the the entities. It has returned a place in France, Aérodrome d'Agen-La Garenne, for the entity *'AGF'* which actually corresponds to a substandard football club located in Aarhus.\n",
    "\n",
    "Because of this ambiguity `get_coordinates()` also takes the parameters `limit` and `limit_area` which are very convenient when only wanting locations inside a specific area."
   ]
  },
  {
   "cell_type": "code",
   "execution_count": null,
   "metadata": {},
   "outputs": [],
   "source": [
    "coords, df, gdf = geo_demo.get_coordinates(limit=\"country\", \n",
    "                                           limit_area=\"Denmark\")\n",
    "\n",
    "print(\"List of coordinates:\\n\", \n",
    "      coords)"
   ]
  },
  {
   "cell_type": "code",
   "execution_count": null,
   "metadata": {},
   "outputs": [],
   "source": [
    "print(\"Overview of the pandas dataframe:\\n\",\n",
    "      df)"
   ]
  },
  {
   "cell_type": "code",
   "execution_count": null,
   "metadata": {},
   "outputs": [],
   "source": [
    "print(\"Overview of the geopandas dataframe:\\n\",\n",
    "      gdf)"
   ]
  },
  {
   "cell_type": "markdown",
   "metadata": {},
   "source": [
    "Now the entity *'AGF'* has been removed and we are only getting the geotagged locations inside of Denmark."
   ]
  },
  {
   "cell_type": "markdown",
   "metadata": {},
   "source": [
    "### Basic Visualization: Plotting points onto a map"
   ]
  },
  {
   "cell_type": "markdown",
   "metadata": {},
   "source": [
    "`stedsans` comes with some basic example text files, datasets and shapefiles that can be used to explore the package. They also ideal for this demonstration of the capabilities of `stedsans`.\n",
    "\n",
    "Right now, we will load a Danish article (sorry, non-Danish-speakers) about Jutland, or Jylland in Danish, by loading it using the `Articles` class. The article can be read below."
   ]
  },
  {
   "cell_type": "code",
   "execution_count": null,
   "metadata": {},
   "outputs": [],
   "source": [
    "from stedsans.data.load_data import Articles\n",
    "\n",
    "jylland_article = Articles.jylland()\n",
    "\n",
    "print(jylland_article)"
   ]
  },
  {
   "cell_type": "markdown",
   "metadata": {},
   "source": [
    "We will now use the article to initialize a new `stedsans` instance, called `jutland_demo` and print the extracted entities to get a brief overview of what we are dealing with."
   ]
  },
  {
   "cell_type": "code",
   "execution_count": null,
   "metadata": {
    "scrolled": true
   },
   "outputs": [],
   "source": [
    "jutland_demo = stedsans(file = jylland_article, \n",
    "                        language = 'danish')\n",
    "\n",
    "jutland_demo.print_entities()"
   ]
  },
  {
   "cell_type": "markdown",
   "metadata": {},
   "source": [
    "To visualize the points we have extracted from the article we can plot them on an interactive `Folium` and `Leaflet.js` map by using the `plot_locations()` function."
   ]
  },
  {
   "cell_type": "code",
   "execution_count": null,
   "metadata": {},
   "outputs": [],
   "source": [
    "jutland_demo.plot_locations()"
   ]
  },
  {
   "source": [
    "By default `plot_locations()` uses a 'cartodbpositron' tileset, however, you can also specify it to use 'OpenStreetMap' or any other  `Foliumn` supported map layer, by using the `tiles` keyword. For additional configurations on the `tiles` argument see the [Folium documentation](https://python-visualization.github.io/folium/modules.html)."
   ],
   "cell_type": "markdown",
   "metadata": {}
  },
  {
   "cell_type": "code",
   "execution_count": null,
   "metadata": {},
   "outputs": [],
   "source": [
    "jutland_demo.plot_locations(tiles=\"OpenStreetMap\")"
   ]
  },
  {
   "cell_type": "markdown",
   "metadata": {},
   "source": [
    "Here we see that we have places all around the world. However, we know that the article concerns Jutland, and it seems a bit dubious that an article regarding Jutland mentions locations across three continents. \n",
    "In these situations where it known beforehand, that all or most locations should be constrained to a specific area, all `stedsans` functions takes two powerful parameters that can be used to specify a bounding box. The `bounding_box` argument lets the user define two coordinate-pairs that represent the corners of the bounding box. The Boolean `bounded` then determines how the geocoder should handle the bounding box. By default, ‘bounded’ is set to 'False’. In this setting, the specified bounding box only serves as an extra heuristic for the importance score ranking in the geocoder; results that lie within the confined area are given a higher importance score. If ‘bounded’ is set to ‘True’, the bounding box categorically restricts the geocoder to only search for locations within the borders of the box. We can try bounding to the bounding box around Region Midtjylland to see if more locations are found in this area than before:"
   ]
  },
  {
   "cell_type": "code",
   "execution_count": null,
   "metadata": {},
   "outputs": [],
   "source": [
    "jutland_demo.plot_locations(bounding_box=((55.9,7.6),(56.6, 10.9)), \n",
    "                             bounded=True)"
   ]
  },
  {
   "cell_type": "markdown",
   "metadata": {},
   "source": [
    "We can see that by bounding the search, the geocoder often locates more places in the specified area.\n",
    "\n",
    "If we wanted the geocoder to extract locations without restrcitions, but at a later stage wanted to subset and visualise only the points located in e.g. Denmark, it would be best to use the `limit` and `limit_area` arguments and set them to 'country' and 'Denmark' respectively.\n",
    "\n",
    "We can also pass a mapping layer into a `stedsans` instance. One of the datasets provided with `stedsans` is a `geopandas` dataframe, created from a shapefile of Denmark with municipality division. This dataset is provided by the `GeoData` class and can be retrieved by calling `GeoData.municipalities()`. The original shapefile was in Danish, and the column names are therefore still in Danish."
   ]
  },
  {
   "cell_type": "code",
   "execution_count": null,
   "metadata": {
    "scrolled": true
   },
   "outputs": [],
   "source": [
    "from stedsans.data.load_data import GeoData\n",
    "\n",
    "denmark = GeoData.municipalities()\n",
    "\n",
    "print(\"First five rows of the denmark dataframe:\\n\", \n",
    "      denmark.head())"
   ]
  },
  {
   "cell_type": "markdown",
   "metadata": {},
   "source": [
    "Each row in this GeoDataFrame represents a municipality and has a polygon defined in the geometry column. The other columns hold various information on the municipalities, e.g., individual IDs (`DAGI_ID`) and the name of the region in which they are located (`REGIONNAVN`). These variables can be used for grouping the data in some of the other functions.\n",
    "\n",
    "By specifiying the 'layer' argument of `plot_locations()` to be the loaded dataframe, we can use it as a base layer. This gives os a non-interactive map created using `matplotlib`. Setting the Boolean `on_map` argument to `True` entails that only points loocated within one of the polygons are kept."
   ]
  },
  {
   "cell_type": "code",
   "execution_count": null,
   "metadata": {},
   "outputs": [],
   "source": [
    "jutland_demo.plot_locations(layer=denmark,\n",
    "                            on_map=True)"
   ]
  },
  {
   "cell_type": "markdown",
   "metadata": {},
   "source": [
    "### Statistical Tools: Point Patterns"
   ]
  },
  {
   "cell_type": "markdown",
   "metadata": {},
   "source": [
    "Since `stedsans` is intended for more than geographical visualizations, it also comes with the ability to do Q-statistics, enabling a quick statistical analysis of the distribution of the points by checking for complete spatial randomness.\n",
    "\n",
    "We will continue to use the `jutland_demo` instance of `stedsans` from the previous section.\n",
    "\n",
    "To get the Q-statistics `stedsans` provides the function `get_quad_stats()`."
   ]
  },
  {
   "cell_type": "code",
   "execution_count": null,
   "metadata": {},
   "outputs": [],
   "source": [
    "jutland_demo.get_quad_stats()"
   ]
  },
  {
   "cell_type": "markdown",
   "metadata": {},
   "source": [
    "`get_quad_stats()` provides us with a 𝜒2-value and a p-value to determine whether out points are truly completely random. In this instance, since we have a 𝜒2 = 858.333 with a p-value = 0.001, we can reject the null and conclude that the points to not appear to be distributed randomly.\n",
    "\n",
    "We are also able to plot the points into quadrants using the `plot_quad_count()` function. \n",
    "\n",
    "In this example we specify the number of `squares` per axis to be 4."
   ]
  },
  {
   "cell_type": "code",
   "execution_count": null,
   "metadata": {},
   "outputs": [],
   "source": [
    "jutland_demo.plot_quad_count(squares = 4)"
   ]
  },
  {
   "cell_type": "markdown",
   "metadata": {},
   "source": [
    "Again we can specify the `limit` and the `limit_area`."
   ]
  },
  {
   "cell_type": "code",
   "execution_count": null,
   "metadata": {},
   "outputs": [],
   "source": [
    "jutland_demo.get_quad_stats(limit=\"country\", \n",
    "                            limit_area=\"Denmark\")"
   ]
  },
  {
   "cell_type": "code",
   "execution_count": null,
   "metadata": {
    "scrolled": true
   },
   "outputs": [],
   "source": [
    "jutland_demo.plot_quad_count(squares = 4,\n",
    "                             limit=\"country\", \n",
    "                             limit_area=\"Denmark\"\n",
    "                             )"
   ]
  },
  {
   "cell_type": "markdown",
   "metadata": {},
   "source": [
    "### Advanced Visualizations 1: Plotting cloropleth plots"
   ]
  },
  {
   "cell_type": "markdown",
   "metadata": {},
   "source": [
    "`stedsans` also provides the ability to plot cloropleth plots. This can be done by using the function `plot_cloropleth()`. "
   ]
  },
  {
   "cell_type": "markdown",
   "metadata": {},
   "source": [
    "By default `plot_cloropleth()` uses the entire world as a default base layer."
   ]
  },
  {
   "cell_type": "code",
   "execution_count": null,
   "metadata": {},
   "outputs": [],
   "source": [
    " jutland_demo.plot_choropleth()"
   ]
  },
  {
   "cell_type": "markdown",
   "metadata": {},
   "source": [
    "When only having locations in Denmark such a plot might be deemed too informative. Luckily, similarly to the `plot_locations()` function, `plot_cloropleth()` also gives us the opportunity to pass a base layer into it with the `layer` argument. We will use the already initialized `denmark` layer."
   ]
  },
  {
   "cell_type": "code",
   "execution_count": null,
   "metadata": {},
   "outputs": [],
   "source": [
    "jutland_demo.plot_choropleth(layer=denmark)"
   ]
  },
  {
   "cell_type": "markdown",
   "metadata": {},
   "source": [
    "By specifiying the layer we get a much more informative view of the distribution of tagged locations.\n",
    "\n",
    "`plot_cloropleth()` also has a `group_by` functionality, where you can specify the filling of the cloropleth plot to be grouped by a variable in the input layer.\n",
    "Here we pass the region name variable called `REGIONNAVN`."
   ]
  },
  {
   "cell_type": "code",
   "execution_count": null,
   "metadata": {
    "scrolled": true
   },
   "outputs": [],
   "source": [
    "jutland_demo.plot_choropleth(layer=denmark, \n",
    "                             group_by='REGIONNAVN')"
   ]
  },
  {
   "cell_type": "markdown",
   "metadata": {},
   "source": [
    "If we only want to get a view of the location distribution of a specific region in Denmark, we can create a subset layer, `region_m`. Here we choose the region name column `REGIONNAVN` and subsets only *'Region Midtjylland'* which translates to the Central Jutland Region."
   ]
  },
  {
   "cell_type": "code",
   "execution_count": null,
   "metadata": {},
   "outputs": [],
   "source": [
    "region_m = denmark[denmark[\"REGIONNAVN\"] == \"Region Midtjylland\"] \n",
    "\n",
    "print(\"First five rows of the region_m dataframe:\\n\", \n",
    "      region_m.head())\n",
    "\n",
    "print(\"\\nUnique regions in region_m:\", \n",
    "      region_m[\"REGIONNAVN\"].unique())"
   ]
  },
  {
   "cell_type": "markdown",
   "metadata": {},
   "source": [
    "Now we have a layer only containing the `REGIONNAVN` called 'Region Midtjylland'.\n",
    "\n",
    "We can use this to create a cloropleth plot of only the locations located in Central Jutland Region in Denmark divided into the different municipalities. We will also make use of the `title` argument to make a nice title for the plot."
   ]
  },
  {
   "cell_type": "code",
   "execution_count": null,
   "metadata": {},
   "outputs": [],
   "source": [
    "jutland_demo.plot_choropleth(layer=region_m, \n",
    "                             title = 'Jylland - Den Store Danske \\n Central Jutland Region')"
   ]
  },
  {
   "cell_type": "markdown",
   "metadata": {},
   "source": [
    "If you wanted to visualize the entirety of the kingdom of Denmark, but only to get the distribution of places in the Central Jutland Region you can specify a `bounding_box` and set `bounded=True`. Note how this also slightly changes (improves) the results for which locations are retrieved in the region."
   ]
  },
  {
   "cell_type": "code",
   "execution_count": null,
   "metadata": {},
   "outputs": [],
   "source": [
    "# Creating a bounding box of the Central Jutland Region\n",
    "\n",
    "bounding_box = bounding_box=((55.9,7.6),\n",
    "                             (56.6, 10.9))\n",
    "\n",
    "jutland_demo.plot_choropleth(layer=denmark, \n",
    "                             title='Jylland - Den Store Danske \\n Bounded to Region Midtjylland', \n",
    "                             bounding_box=((55.9,7.6),(56.6, 10.9)), \n",
    "                             bounded=True)"
   ]
  },
  {
   "cell_type": "code",
   "execution_count": null,
   "metadata": {},
   "outputs": [],
   "source": [
    "jutland_demo.plot_choropleth(layer=denmark, title='Jylland - Den Store Danske \\n Grouped by Region', \n",
    "                             group_by='REGIONNAVN', \n",
    "                             bounding_box=((54.6,7.8),(57.8, 15.2)), \n",
    "                             bounded=False)"
   ]
  },
  {
   "cell_type": "markdown",
   "metadata": {},
   "source": [
    "### Advanced Visualizations 2: Heatmaps"
   ]
  },
  {
   "cell_type": "markdown",
   "metadata": {},
   "source": [
    "Lastly, `stedsans` also provides the ability to create heatmaps by using the function `plot_heatmap()`."
   ]
  },
  {
   "cell_type": "code",
   "execution_count": null,
   "metadata": {},
   "outputs": [],
   "source": [
    "jutland_demo.plot_heatmap()"
   ]
  },
  {
   "cell_type": "markdown",
   "metadata": {},
   "source": [
    "Again, we can specify the `limit` and the `limit_area`."
   ]
  },
  {
   "cell_type": "code",
   "execution_count": null,
   "metadata": {},
   "outputs": [],
   "source": [
    "jutland_demo.plot_heatmap(limit = 'country', \n",
    "                          limit_area = 'Denmark')"
   ]
  },
  {
   "cell_type": "markdown",
   "metadata": {},
   "source": [
    "And we can set a bounding box."
   ]
  },
  {
   "cell_type": "code",
   "execution_count": null,
   "metadata": {},
   "outputs": [],
   "source": [
    "jutland_demo.plot_heatmap(bounding_box=((55.9,7.6),(56.6,10.9)), \n",
    "                          bounded=True)"
   ]
  },
  {
   "cell_type": "markdown",
   "metadata": {},
   "source": [
    "Making the argument names generalizable and work across multiple functions should make the usage `stedsans` more accessible for the users. \n",
    "\n",
    "There are lots of features to come and the developers are looking forward to continuously enhancing the features, and providing additional geospatial analytical tools.\n",
    "\n",
    "We hope you enjoyed the demonstration of the current capabilities of `stedsans`. \n",
    "\n",
    "Thank you!"
   ]
  },
  {
   "cell_type": "markdown",
   "metadata": {},
   "source": [
    "### Contact\n",
    "\n",
    "For help or further information feel free to connect with either of the main developers:\n",
    "\n",
    "**Malte Højmark-Bertelsen**\n",
    "<br />\n",
    "[hjb@kmd.dk](mailto:hjb@kmd.dk?subject=[GitHub]%20stedsans)\n",
    "\n",
    "\n",
    "[<img align=\"left\" alt=\"MalteHB | Twitter\" width=\"30px\" src=\"https://cdn.jsdelivr.net/npm/simple-icons@v3/icons/twitter.svg\" />][twitter]\n",
    "[<img align=\"left\" alt=\"MalteHB | LinkedIn\" width=\"30px\" src=\"https://cdn.jsdelivr.net/npm/simple-icons@v3/icons/linkedin.svg\" />][linkedin]\n",
    "\n",
    "<br />\n",
    "\n",
    "</details>\n",
    "\n",
    "[twitter]: https://twitter.com/malteH_B\n",
    "[linkedin]: https://www.linkedin.com/in/maltehb\n",
    "\n",
    "**Jakob Grøhn Damgaard** \n",
    "<br />\n",
    "[bokajgd@gmail.com](mailto:bokajgd@gmail.com?subject=[GitHub]%20stedsans)\n",
    "\n",
    "\n",
    "[<img align=\"left\" alt=\"Jakob Grøhn Damgaard | Twitter\" width=\"30px\" src=\"https://cdn.jsdelivr.net/npm/simple-icons@v3/icons/twitter.svg\" />][twitter]\n",
    "[<img align=\"left\" alt=\"Jakob Grøhn Damgaard | LinkedIn\" width=\"30px\" src=\"https://cdn.jsdelivr.net/npm/simple-icons@v3/icons/linkedin.svg\" />][linkedin]\n",
    "\n",
    "<br />\n",
    "\n",
    "</details>\n",
    "\n",
    "[twitter]: https://twitter.com/JakobGroehn\n",
    "[linkedin]: https://www.linkedin.com/in/jakob-gr%C3%B8hn-damgaard-04ba51144/"
   ]
  }
 ],
 "metadata": {
  "kernelspec": {
   "name": "python388jvsc74a57bd010b97c6c21ac6fb33c26ad64795ebf8e3a140a6e7f42652360920d249612f124",
   "display_name": "Python 3.8.8 64-bit ('stedsans': conda)"
  },
  "language_info": {
   "codemirror_mode": {
    "name": "ipython",
    "version": 3
   },
   "file_extension": ".py",
   "mimetype": "text/x-python",
   "name": "python",
   "nbconvert_exporter": "python",
   "pygments_lexer": "ipython3",
   "version": "3.8.8"
  },
  "metadata": {
   "interpreter": {
    "hash": "10b97c6c21ac6fb33c26ad64795ebf8e3a140a6e7f42652360920d249612f124"
   }
  }
 },
 "nbformat": 4,
 "nbformat_minor": 2
}