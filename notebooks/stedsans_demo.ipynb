{
 "cells": [
  {
   "cell_type": "markdown",
   "metadata": {},
   "source": [
    "# `stedsans`"
   ]
  },
  {
   "source": [
    "This is a notebook showing the current and most prominent capabilities of `stedsans`. \n",
    "It is heavily recommended to run the notebook by using Google Colab: [![Open In Colab](https://colab.research.google.com/assets/colab-badge.svg)](https://colab.research.google.com/github/MalteHB/stedsans/blob/main/notebooks/stedsans_demo.ipynb)\n",
    "\n",
    "If running the notebook on your local machine consider installing [Anaconda](https://docs.anaconda.com/anaconda/install/) and then install the package `geopandas` to get the pre-built binaries, by using the `conda` package manager from an Anaconda integraged terminal:\n",
    "\n",
    "```bash\n",
    "conda install geopandas\n",
    "```"
   ],
   "cell_type": "markdown",
   "metadata": {}
  },
  {
   "source": [
    "Installing `stedsans`."
   ],
   "cell_type": "markdown",
   "metadata": {}
  },
  {
   "cell_type": "code",
   "execution_count": null,
   "metadata": {},
   "outputs": [],
   "source": [
    "!pip -q install stedsans"
   ]
  },
  {
   "source": [
    "If using either Google Colab, Linux or MacOS install `geopandas` using `pip`:"
   ],
   "cell_type": "markdown",
   "metadata": {}
  },
  {
   "source": [
    "!pip -q install geopandas"
   ],
   "cell_type": "code",
   "metadata": {},
   "execution_count": null,
   "outputs": []
  },
  {
   "source": [
    "If using Windows OS install `geopandas` to by using `conda`:\n",
    "\n",
    "```bash\n",
    "conda install geopandas\n",
    "```"
   ],
   "cell_type": "markdown",
   "metadata": {}
  },
  {
   "cell_type": "markdown",
   "metadata": {},
   "source": [
    "__Importing packages__"
   ]
  },
  {
   "cell_type": "code",
   "execution_count": null,
   "metadata": {},
   "outputs": [],
   "source": [
    "import os\n",
    "import sys\n",
    "\n",
    "from pathlib import Path\n",
    "\n",
    "import geopandas\n",
    "\n",
    "from stedsans import stedsans\n",
    "from stedsans.data.load_data import Articles, GeoData"
   ]
  },
  {
   "cell_type": "markdown",
   "metadata": {},
   "source": [
    "## Language capabilities of `stedsans`"
   ]
  },
  {
   "cell_type": "code",
   "execution_count": null,
   "metadata": {},
   "outputs": [],
   "source": [
    "danish_sentence = \"Malte er mit navn, og jeg bor på Testvej 13, Aarhus C\"\n",
    "\n",
    "default_stedsans = stedsans(sentence = danish_sentence)\n",
    "\n",
    "default_entities = default_stedsans.extract_entities()\n",
    "\n",
    "print(default_entities)"
   ]
  },
  {
   "cell_type": "markdown",
   "metadata": {},
   "source": [
    "## Danish"
   ]
  },
  {
   "cell_type": "code",
   "execution_count": null,
   "metadata": {},
   "outputs": [],
   "source": [
    "danish_stedsans = stedsans(danish_sentence, language=\"danish\")\n",
    "\n",
    "danish_entities = danish_stedsans.extract_entities()\n",
    "\n",
    "print(danish_entities)"
   ]
  },
  {
   "cell_type": "code",
   "execution_count": null,
   "metadata": {},
   "outputs": [],
   "source": [
    "new_danish_sentence = \"Jakob er min flotte homies navn, og han bor også i Aarhus C\"\n",
    "\n",
    "danish_sentence_entities = default_stedsans.extract_entities(new_danish_sentence)\n",
    "\n",
    "print(danish_sentence_entities)"
   ]
  },
  {
   "cell_type": "markdown",
   "metadata": {},
   "source": [
    "## English"
   ]
  },
  {
   "cell_type": "code",
   "execution_count": null,
   "metadata": {},
   "outputs": [],
   "source": [
    "english_sentence = \"Hello my name is Malte and i live in Aarhus C\"\n",
    "\n",
    "english_stedsans = stedsans(english_sentence, language=\"english\")\n",
    "\n",
    "english_entities = english_stedsans.extract_entities()\n",
    "\n",
    "print(english_entities)"
   ]
  },
  {
   "cell_type": "code",
   "execution_count": null,
   "metadata": {},
   "outputs": [],
   "source": [
    "english_sentence_entities = english_stedsans.extract_entities(\"Jakob is the name of my handsome homie, and he also lives in Aarhus C\")\n",
    "\n",
    "print(english_sentence_entities)"
   ]
  },
  {
   "cell_type": "markdown",
   "metadata": {},
   "source": [
    "## Geographic capabilities of `stedsans`"
   ]
  },
  {
   "cell_type": "code",
   "execution_count": null,
   "metadata": {},
   "outputs": [],
   "source": [
    "txt = \"Han bor på Tesvej 13 Aarhus C. Jakob bor i Testparken Aarhus C. MCH Arena er et legendarisk sted. Hun bor tæt på Dejbjerglund Efterskole. I Randers laver man shawarma. LEGOLAND er det fedeste sted. Skanderborg Bryghus laver gode øl. AGF er et ringe hold. Han bor på Ingerslevs Boulevard. Fjordgaarden er en lækker restaurant. Knebel ligger på Mols Djursland. Vestebro ligger vest for Østerbro og tæt på Amager. Bruuns Galleri og Dokk1 er steder i Aarhus.\""
   ]
  },
  {
   "cell_type": "code",
   "execution_count": null,
   "metadata": {},
   "outputs": [],
   "source": [
    "danmark = GeoData.municipalities()\n",
    "region_m = danmark[danmark[\"REGIONNAVN\"] == \"Region Midtjylland\"]"
   ]
  },
  {
   "cell_type": "code",
   "execution_count": null,
   "metadata": {},
   "outputs": [],
   "source": [
    "geo_demo = stedsans(sentence = txt, language = 'danish')"
   ]
  },
  {
   "source": [
    "# Basic functionality: Extract entities marked as locations (LOC) or organisations (ORG) and find their appertaining coordinates"
   ],
   "cell_type": "markdown",
   "metadata": {}
  },
  {
   "source": [
    "The data format of the output can be adjusted"
   ],
   "cell_type": "markdown",
   "metadata": {}
  },
  {
   "cell_type": "code",
   "execution_count": null,
   "metadata": {},
   "outputs": [],
   "source": [
    "coords, df, gdf = geo_demo.get_coordinates()\n",
    "\n",
    "print(coords)\n"
   ]
  },
  {
   "cell_type": "code",
   "execution_count": 15,
   "metadata": {},
   "outputs": [
    {
     "output_type": "error",
     "ename": "NameError",
     "evalue": "name 'df' is not defined",
     "traceback": [
      "\u001b[1;31m---------------------------------------------------------------------------\u001b[0m",
      "\u001b[1;31mNameError\u001b[0m                                 Traceback (most recent call last)",
      "\u001b[1;32m<ipython-input-15-873aa293d964>\u001b[0m in \u001b[0;36m<module>\u001b[1;34m\u001b[0m\n\u001b[1;32m----> 1\u001b[1;33m \u001b[0mprint\u001b[0m\u001b[1;33m(\u001b[0m\u001b[0mdf\u001b[0m\u001b[1;33m.\u001b[0m\u001b[0mhead\u001b[0m\u001b[1;33m(\u001b[0m\u001b[1;33m)\u001b[0m\u001b[1;33m)\u001b[0m\u001b[1;33m\u001b[0m\u001b[1;33m\u001b[0m\u001b[0m\n\u001b[0m",
      "\u001b[1;31mNameError\u001b[0m: name 'df' is not defined"
     ]
    }
   ],
   "source": [
    "print(df.head())"
   ]
  },
  {
   "source": [
    "# Basic visualisation: Plotting points onto a map"
   ],
   "cell_type": "markdown",
   "metadata": {}
  },
  {
   "source": [
    "Interactive folium map"
   ],
   "cell_type": "markdown",
   "metadata": {}
  },
  {
   "cell_type": "code",
   "execution_count": null,
   "metadata": {},
   "outputs": [],
   "source": [
    "#geo_demo.plot_locations()"
   ]
  },
  {
   "source": [
    "Plotting onto a passed map layer (shp file)"
   ],
   "cell_type": "markdown",
   "metadata": {}
  },
  {
   "cell_type": "code",
   "execution_count": null,
   "metadata": {},
   "outputs": [],
   "source": [
    "shp_map = geo_demo.plot_locations(layer=danmark)"
   ]
  },
  {
   "cell_type": "code",
   "execution_count": null,
   "metadata": {},
   "outputs": [],
   "source": [
    "geo_demo.plot_locations(layer=danmark)"
   ]
  },
  {
   "source": [
    "# Perform basic statistcal point pattern tests"
   ],
   "cell_type": "markdown",
   "metadata": {}
  },
  {
   "source": [
    "These Q-statistics functions enable a quick statistical analysis of distribution of the points by checking for complete spatial randomness. "
   ],
   "cell_type": "markdown",
   "metadata": {}
  },
  {
   "cell_type": "code",
   "execution_count": null,
   "metadata": {},
   "outputs": [],
   "source": [
    "# Initialsing a stedsans objects\n",
    "example = stedsans(sentence=txt)\n",
    "\n",
    "# Getting quadrat statistics\n",
    "example.print_entities()\n"
   ]
  },
  {
   "cell_type": "code",
   "execution_count": null,
   "metadata": {},
   "outputs": [],
   "source": [
    "example.get_quad_stats()"
   ]
  },
  {
   "cell_type": "code",
   "execution_count": null,
   "metadata": {},
   "outputs": [],
   "source": [
    "# Plotting points with quadrants\n",
    "example.plot_quad_count(squares = 4)"
   ]
  },
  {
   "source": [
    "# Plotting region heatnmaps on a given map layer"
   ],
   "cell_type": "markdown",
   "metadata": {}
  },
  {
   "source": [
    "This tool gives a beuatiful visual representation of the distribution of the extracted locations. The level of partitioning can be set using the *group_by* parameter."
   ],
   "cell_type": "markdown",
   "metadata": {}
  },
  {
   "source": [
    "By default `plot_cloropleth()` plots the world."
   ],
   "cell_type": "markdown",
   "metadata": {}
  },
  {
   "cell_type": "code",
   "execution_count": null,
   "metadata": {},
   "outputs": [],
   "source": [
    " geo_demo.plot_choropleth()"
   ]
  },
  {
   "source": [
    "One can also use the argument `layer` to specify a geopandas dataframe to plot on."
   ],
   "cell_type": "markdown",
   "metadata": {}
  },
  {
   "source": [
    "danmark_cloropleth = geo_demo.plot_choropleth(layer=danmark)\n",
    "danmark_cloropleth"
   ],
   "cell_type": "code",
   "metadata": {},
   "execution_count": null,
   "outputs": []
  },
  {
   "cell_type": "code",
   "execution_count": null,
   "metadata": {},
   "outputs": [],
   "source": [
    "denmark_heatmap_by_region = geo_demo.plot_choropleth(layer=danmark, group_by='REGIONNAVN')\n",
    "denmark_heatmap_by_region"
   ]
  },
  {
   "cell_type": "code",
   "execution_count": null,
   "metadata": {},
   "outputs": [],
   "source": [
    " region_m_heatmap = geo_demo.plot_choropleth(layer=region_m, title = 'Region Midtjylland', group_by = 'DAGI_ID')\n",
    " region_m_heatmap"
   ]
  },
  {
   "source": [
    "# Aarhus article example for exam paper"
   ],
   "cell_type": "markdown",
   "metadata": {}
  },
  {
   "cell_type": "code",
   "execution_count": null,
   "metadata": {},
   "outputs": [],
   "source": [
    "aarhus_article = Articles.aarhus()"
   ]
  },
  {
   "cell_type": "code",
   "execution_count": null,
   "metadata": {},
   "outputs": [],
   "source": [
    "geo_demo = stedsans(file = aarhus_article, language = 'danish')"
   ]
  },
  {
   "cell_type": "code",
   "execution_count": null,
   "metadata": {},
   "outputs": [],
   "source": [
    "coords, df, gdf = geo_demo.get_coordinates()"
   ]
  },
  {
   "cell_type": "code",
   "execution_count": null,
   "metadata": {},
   "outputs": [],
   "source": [
    "df"
   ]
  },
  {
   "cell_type": "code",
   "execution_count": null,
   "metadata": {},
   "outputs": [],
   "source": [
    "geo_demo.plot_heatmap()"
   ]
  },
  {
   "cell_type": "code",
   "execution_count": null,
   "metadata": {},
   "outputs": [],
   "source": [
    "geo_demo.plot_heatmap(limit = 'country', limit_area = 'Danmark')"
   ]
  },
  {
   "cell_type": "code",
   "execution_count": null,
   "metadata": {},
   "outputs": [],
   "source": [
    "geo_demo.plot_heatmap(bounding_box=((55.859900,7.630005),(56.613931,10.958862)), bounded=True)"
   ]
  },
  {
   "cell_type": "code",
   "execution_count": null,
   "metadata": {},
   "outputs": [],
   "source": [
    "geo_demo.plot_heatmap(bounding_box=((55.9,7.6),(56.6,10.9)), bounded=False)"
   ]
  },
  {
   "source": [
    "####  Choropleth"
   ],
   "cell_type": "markdown",
   "metadata": {}
  },
  {
   "cell_type": "code",
   "execution_count": null,
   "metadata": {},
   "outputs": [],
   "source": [
    " geo_demo.plot_choropleth()  # This might take a while :)"
   ]
  },
  {
   "cell_type": "code",
   "execution_count": null,
   "metadata": {},
   "outputs": [],
   "source": [
    "danmark_cloropleth = geo_demo.plot_choropleth(layer=danmark)\n",
    "danmark_cloropleth"
   ]
  },
  {
   "cell_type": "code",
   "execution_count": null,
   "metadata": {},
   "outputs": [],
   "source": [
    "denmark_heatmap_by_region = geo_demo.plot_choropleth(layer=danmark, group_by='REGIONNAVN')\n",
    "denmark_heatmap_by_region"
   ]
  },
  {
   "cell_type": "code",
   "execution_count": null,
   "metadata": {},
   "outputs": [],
   "source": [
    " region_m_heatmap = geo_demo.plot_choropleth(layer=region_m, title = 'Region Midtjylland', group_by = 'DAGI_ID')\n",
    " region_m_heatmap"
   ]
  },
  {
   "source": [
    "# Den Store Danske - Jylland"
   ],
   "cell_type": "markdown",
   "metadata": {}
  },
  {
   "source": [
    "## Reading in the article"
   ],
   "cell_type": "markdown",
   "metadata": {}
  },
  {
   "cell_type": "code",
   "execution_count": null,
   "metadata": {},
   "outputs": [],
   "source": [
    "jylland_article = Articles.jylland()"
   ]
  },
  {
   "source": [
    "## Initialising stedsans object"
   ],
   "cell_type": "markdown",
   "metadata": {}
  },
  {
   "cell_type": "code",
   "execution_count": null,
   "metadata": {},
   "outputs": [],
   "source": [
    "geo_demo = stedsans(file = jylland_article, language = 'danish')"
   ]
  },
  {
   "source": [
    "## Plotting locations"
   ],
   "cell_type": "markdown",
   "metadata": {}
  },
  {
   "source": [
    "### Plotting on interactive leaflet map"
   ],
   "cell_type": "markdown",
   "metadata": {}
  },
  {
   "cell_type": "code",
   "execution_count": null,
   "metadata": {},
   "outputs": [],
   "source": [
    "geo_demo.plot_locations()"
   ]
  },
  {
   "source": [
    "## Plotting on shapefile layer"
   ],
   "cell_type": "markdown",
   "metadata": {}
  },
  {
   "source": [
    "geo_demo.plot_locations(layer=danmark, on_map=True)"
   ],
   "cell_type": "code",
   "metadata": {},
   "execution_count": null,
   "outputs": []
  },
  {
   "cell_type": "code",
   "execution_count": null,
   "metadata": {},
   "outputs": [],
   "source": [
    "geo_demo.plot_locations(layer=region_m, on_map=True)"
   ]
  },
  {
   "source": [
    "## Plotting heatmaps"
   ],
   "cell_type": "markdown",
   "metadata": {}
  },
  {
   "source": [
    "### No restrictions"
   ],
   "cell_type": "markdown",
   "metadata": {}
  },
  {
   "cell_type": "code",
   "execution_count": null,
   "metadata": {},
   "outputs": [],
   "source": [
    "geo_demo.plot_heatmap()"
   ]
  },
  {
   "source": [
    "### Plotting only locations in denmark"
   ],
   "cell_type": "markdown",
   "metadata": {}
  },
  {
   "cell_type": "code",
   "execution_count": null,
   "metadata": {},
   "outputs": [],
   "source": [
    "geo_demo.plot_heatmap(limit = 'country', limit_area = 'Danmark')"
   ]
  },
  {
   "source": [
    "### Boudning search area to Region Midtjylland"
   ],
   "cell_type": "markdown",
   "metadata": {}
  },
  {
   "cell_type": "code",
   "execution_count": null,
   "metadata": {},
   "outputs": [],
   "source": [
    "geo_demo.plot_heatmap(bounding_box=((55.9,7.6),(56.6,10.9)), bounded=True)"
   ]
  },
  {
   "source": [
    "## Choropleth maps"
   ],
   "cell_type": "markdown",
   "metadata": {}
  },
  {
   "source": [
    "### Plotting choropleth map of points bounded to Region Midtjylland on map of Denmark"
   ],
   "cell_type": "markdown",
   "metadata": {}
  },
  {
   "cell_type": "code",
   "execution_count": null,
   "metadata": {},
   "outputs": [],
   "source": [
    "geo_demo.plot_choropleth(layer=danmark, title='Jylland - Den Store Danske \\n Bounded to Region Midtjylland', group_by='DAGI_ID', bounding_box=((55.9,7.6),(56.6, 10.9)), bounded=True)"
   ]
  },
  {
   "source": [
    "### Plotting choropleth map grouped by region"
   ],
   "cell_type": "markdown",
   "metadata": {}
  },
  {
   "cell_type": "code",
   "execution_count": null,
   "metadata": {},
   "outputs": [],
   "source": [
    "geo_demo.plot_choropleth(layer=danmark, title='Jylland - Den Store Danske \\n Grouped by Region', group_by='REGIONNAVN', bounding_box=((54.6,7.8),(57.8, 15.2)), bounded=False)"
   ]
  },
  {
   "source": [
    "### Plotting choropleth map grouped by municipalites"
   ],
   "cell_type": "markdown",
   "metadata": {}
  },
  {
   "cell_type": "code",
   "execution_count": null,
   "metadata": {},
   "outputs": [],
   "source": [
    "geo_demo.plot_choropleth(layer=danmark, title='Jylland - Den Store Danske \\n Unbounded', group_by='DAGI_ID')"
   ]
  },
  {
   "source": [
    "## Quadrat Statistics"
   ],
   "cell_type": "markdown",
   "metadata": {}
  },
  {
   "cell_type": "code",
   "execution_count": null,
   "metadata": {},
   "outputs": [],
   "source": [
    "geo_demo.get_quad_stats(limit = 'country', limit_area = 'Danmark')"
   ]
  },
  {
   "cell_type": "code",
   "execution_count": null,
   "metadata": {},
   "outputs": [],
   "source": [
    "geo_demo.plot_quad_count(limit = 'country', limit_area = 'Danmark')"
   ]
  }
 ],
 "metadata": {
  "kernelspec": {
   "name": "python388jvsc74a57bd010b97c6c21ac6fb33c26ad64795ebf8e3a140a6e7f42652360920d249612f124",
   "display_name": "Python 3.8.8 64-bit ('stedsans': conda)"
  },
  "language_info": {
   "codemirror_mode": {
    "name": "ipython",
    "version": 3
   },
   "file_extension": ".py",
   "mimetype": "text/x-python",
   "name": "python",
   "nbconvert_exporter": "python",
   "pygments_lexer": "ipython3",
   "version": "3.8.8"
  },
  "metadata": {
   "interpreter": {
    "hash": "10b97c6c21ac6fb33c26ad64795ebf8e3a140a6e7f42652360920d249612f124"
   }
  }
 },
 "nbformat": 4,
 "nbformat_minor": 2
}