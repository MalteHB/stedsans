{
 "cells": [
  {
   "cell_type": "code",
   "execution_count": null,
   "metadata": {},
   "outputs": [],
   "source": [
    "# DELETE BEFORE RELEASE\n",
    "import os\n",
    "import sys\n",
    "nb_dir = os.path.split(os.getcwd())[0] + \"/src\"\n",
    "if nb_dir not in sys.path:\n",
    "    sys.path.append(nb_dir)"
   ]
  },
  {
   "cell_type": "markdown",
   "metadata": {},
   "source": [
    "# `stedsans`"
   ]
  },
  {
   "cell_type": "markdown",
   "metadata": {},
   "source": [
    "This is a notebook showing the current and most prominent capabilities of `stedsans`. \n",
    "It is heavily recommended to run the notebook by using Google Colab:\n",
    "<br>\n",
    "<br>\n",
    "[![Open In Colab](https://colab.research.google.com/assets/colab-badge.svg)](https://colab.research.google.com/github/MalteHB/stedsans/blob/main/notebooks/stedsans_demo.ipynb)\n",
    "\n",
    "\n",
    "If running the notebook on your local machine consider installing [Anaconda](https://docs.anaconda.com/anaconda/install/) and then install the package `geopandas` to get the pre-built binaries, by using the `conda` package manager from an Anaconda integraged terminal:\n",
    "\n",
    "```bash\n",
    "conda install geopandas\n",
    "```"
   ]
  },
  {
   "cell_type": "markdown",
   "metadata": {},
   "source": [
    "## Setup"
   ]
  },
  {
   "cell_type": "markdown",
   "metadata": {},
   "source": [
    "We will start off by installing `stedsans` using the `pip` package manager."
   ]
  },
  {
   "cell_type": "code",
   "execution_count": null,
   "metadata": {},
   "outputs": [],
   "source": [
    "#!pip -q install stedsans"
   ]
  },
  {
   "cell_type": "markdown",
   "metadata": {},
   "source": [
    "If you are using either Google Colab, Linux or MacOS also feel free to install `geopandas` using `pip`, however, if you are using Windows OS install `geopandas` to by using the `conda` package manager."
   ]
  },
  {
   "cell_type": "code",
   "execution_count": null,
   "metadata": {},
   "outputs": [],
   "source": [
    "# For Google Colab, Linux or MacOS:\n",
    "#!pip -q install geopandas\n",
    "\n",
    "# For Windows:\n",
    "# !conda install geopandas"
   ]
  },
  {
   "cell_type": "markdown",
   "metadata": {},
   "source": [
    "__Importing packages__"
   ]
  },
  {
   "cell_type": "markdown",
   "metadata": {},
   "source": [
    "We start off by importing the main module of `stedsans`."
   ]
  },
  {
   "cell_type": "code",
   "execution_count": null,
   "metadata": {},
   "outputs": [],
   "source": [
    "from stedsans import stedsans"
   ]
  },
  {
   "cell_type": "markdown",
   "metadata": {},
   "source": [
    "## Language capabilities of `stedsans`"
   ]
  },
  {
   "cell_type": "markdown",
   "metadata": {},
   "source": [
    "`stedsans` is capable of taking a either a Danish or an English sentence, and extracting the entities by using either [Ælæctra](https://huggingface.co/Maltehb/-l-ctra-danish-electra-small-cased-ner-dane) or [BERT](https://huggingface.co/dslim/bert-base-NER), respectively.\n",
    "\n",
    "The intended use of `stedsans` is to initialize a stedsans object with a sentence."
   ]
  },
  {
   "cell_type": "code",
   "execution_count": null,
   "metadata": {},
   "outputs": [],
   "source": [
    "# Define the sentence\n",
    "danish_sentence = \"Malte er mit navn, og jeg bor på Testvej 13, Aarhus C\"\n",
    "\n",
    "# By default stedsans assumes the language is Danish\n",
    "default_stedsans = stedsans(sentence = danish_sentence)"
   ]
  },
  {
   "cell_type": "markdown",
   "metadata": {},
   "source": [
    "After a `stedsans` instance with a sentence has been initialized one can simply call the `extract_entities()` function and print the entities."
   ]
  },
  {
   "cell_type": "code",
   "execution_count": null,
   "metadata": {},
   "outputs": [],
   "source": [
    "default_entities = default_stedsans.extract_entities()\n",
    "\n",
    "print(default_entities)"
   ]
  },
  {
   "cell_type": "markdown",
   "metadata": {},
   "source": [
    "### Multilinguistic stedsans \n",
    "#### (duolinguistic for now...)\n",
    "By default `stedsans` assumes the language is Danish, but we can also be specified using the 'language' argument. `stedsans` is currently only capable of predicting Danish and English sentences, but future enhancements will include increased language variety."
   ]
  },
  {
   "cell_type": "code",
   "execution_count": null,
   "metadata": {},
   "outputs": [],
   "source": [
    "danish_stedsans = stedsans(danish_sentence, language=\"danish\")\n",
    "\n",
    "danish_entities = danish_stedsans.extract_entities()\n",
    "\n",
    "print(danish_entities)"
   ]
  },
  {
   "cell_type": "code",
   "execution_count": null,
   "metadata": {},
   "outputs": [],
   "source": [
    "english_sentence = \"Hello my name is Malte and i live in Aarhus C\"\n",
    "\n",
    "english_stedsans = stedsans(english_sentence, language=\"english\")\n",
    "\n",
    "english_entities = english_stedsans.extract_entities()\n",
    "\n",
    "print(english_entities)"
   ]
  },
  {
   "cell_type": "markdown",
   "metadata": {},
   "source": [
    "A `stedsance` instance has been initialized we also use it for predicting other sentences."
   ]
  },
  {
   "cell_type": "code",
   "execution_count": null,
   "metadata": {},
   "outputs": [],
   "source": [
    "new_danish_sentence = \"Jakob er min gode samarbejdspartners navn, og han bor også i Aarhus C\"\n",
    "\n",
    "danish_sentence_entities = default_stedsans.extract_entities(new_danish_sentence)\n",
    "\n",
    "print(danish_sentence_entities)"
   ]
  },
  {
   "cell_type": "code",
   "execution_count": null,
   "metadata": {},
   "outputs": [],
   "source": [
    "new_english_sentence = \"Jakob is the name my good cooperator, and he also lives in Aarhus C\"\n",
    "\n",
    "english_sentence_entities = english_stedsans.extract_entities(new_english_sentence)\n",
    "\n",
    "print(english_sentence_entities)"
   ]
  },
  {
   "cell_type": "markdown",
   "metadata": {},
   "source": [
    "Notice here how the different models have different predictive capabilities. The Danish Ælæctra notices 'C' as part of the location whereas BERT does not."
   ]
  },
  {
   "cell_type": "markdown",
   "metadata": {},
   "source": [
    "## Geographic capabilities of `stedsans`\n",
    "\n",
    "To show the basic geographical functionalities of stedsans we will start of by initializing a stedsans instance, `geo_demo`, with an English text string, and printing the found location and organization entities."
   ]
  },
  {
   "cell_type": "code",
   "execution_count": null,
   "metadata": {},
   "outputs": [],
   "source": [
    "txt = \"Stedsans was developed by two knights who both live in Aarhus C. \\\n",
    "        They are both fans of FC Midtjylland which is a football team residing at MCH Arena. \\\n",
    "        One comes from Randers, which is home to one of the best beers in the world. \\\n",
    "        The other comes from a small city, not too far from LEGOLAND. \\\n",
    "        One of their favourite locations is Knebel which is located on Mols Djursland. \\\n",
    "        They are not hateful people, but they are not too fond of AGF. What is there really to like about AGF? \\\n",
    "        If you ever come close to Aarhus, feel free to pay them a visit. \\\n",
    "        They will gladly take you on a tourist tour to both see Bruuns Galleri and Dokk1. \\\n",
    "        And if you like beer they will gladly beknight you at Guldhornene Aarhus.\"\n",
    "\n",
    "geo_demo = stedsans(sentence = txt, language = 'english')\n",
    "\n",
    "geo_demo.print_entities()"
   ]
  },
  {
   "cell_type": "markdown",
   "metadata": {},
   "source": [
    "We can then use the `get_coordinates()` function, to obtain both the a list of coordinates, a `pandas`dataframe and a `geopandas`dataframe."
   ]
  },
  {
   "cell_type": "code",
   "execution_count": null,
   "metadata": {},
   "outputs": [],
   "source": [
    "coords, df, gdf = geo_demo.get_coordinates()\n",
    "\n",
    "print(\"List of coordinates:\\n\", coords)"
   ]
  },
  {
   "cell_type": "code",
   "execution_count": null,
   "metadata": {
    "scrolled": false
   },
   "outputs": [],
   "source": [
    "print(\"Overview of the pandas dataframe:\\n\",df)"
   ]
  },
  {
   "cell_type": "code",
   "execution_count": null,
   "metadata": {
    "scrolled": true
   },
   "outputs": [],
   "source": [
    "print(\"Overview of the geopandas dataframe:\\n\",gdf)"
   ]
  },
  {
   "cell_type": "markdown",
   "metadata": {},
   "source": [
    "As we see the two dataframes are different in that the `geopandas` dataframe also contains the `geometry` column, which enables a user of `stedsans` to do additional geoanalytical analyses. Also note how the geoparsing fails as it has returned a place in France, Aérodrome d'Agen-La Garenne, for the entity 'AGF' which actually corresponds to a substandard football club located in Aarhus.\n",
    "\n",
    "Because of this ambiguity `get_coordinates()` also takes the parameters `limit` and `limit_area` which are very convenient when only wanting locations inside a specific area."
   ]
  },
  {
   "cell_type": "code",
   "execution_count": null,
   "metadata": {},
   "outputs": [],
   "source": [
    "coords, df, gdf = geo_demo.get_coordinates(limit=\"country\", limit_area=\"Denmark\", output_language=\"en\")\n",
    "\n",
    "print(\"List of coordinates:\\n\", coords)"
   ]
  },
  {
   "cell_type": "code",
   "execution_count": null,
   "metadata": {},
   "outputs": [],
   "source": [
    "print(\"Overview of the pandas dataframe:\\n\",df)"
   ]
  },
  {
   "cell_type": "code",
   "execution_count": null,
   "metadata": {},
   "outputs": [],
   "source": [
    "print(\"Overview of the geopandas dataframe:\\n\",gdf)"
   ]
  },
  {
   "cell_type": "markdown",
   "metadata": {},
   "source": [
    "Now the entity 'AGF' has been removed and we are only getting the geotagged locations inside of Denmark."
   ]
  },
  {
   "cell_type": "markdown",
   "metadata": {},
   "source": [
    "### Basic Visualization: Plotting points onto a map"
   ]
  },
  {
   "cell_type": "markdown",
   "metadata": {},
   "source": [
    "To visualize the points we have extracted from the text we can plot them on an interactive `Folium` map by using the `plot_locations()` function. We will continue using our already defined instance of `stedsans`, `geo_demo`."
   ]
  },
  {
   "cell_type": "code",
   "execution_count": null,
   "metadata": {},
   "outputs": [],
   "source": [
    "geo_demo.plot_locations(limit=\"country\", limit_area=\"Denmark\")"
   ]
  },
  {
   "cell_type": "markdown",
   "metadata": {},
   "source": [
    "We can also pass a mapping layer into a `stedsans` instance. Inside of `stedsans`, a `geopandas` dataframe, created from a shapefile of Denmark, divided into municipalities, is provided by the GeoData() class and can be retrieved by calling `GeoData.municipalities()`. The original shapefile was in Danish, and the column names are therefore still in Danish."
   ]
  },
  {
   "cell_type": "code",
   "execution_count": null,
   "metadata": {
    "scrolled": true
   },
   "outputs": [],
   "source": [
    "from stedsans.data.load_data import GeoData\n",
    "denmark = GeoData.municipalities()\n",
    "print(\"First five rows of the denmark dataframe:\\n\", denmark.head())"
   ]
  },
  {
   "cell_type": "markdown",
   "metadata": {},
   "source": [
    "Here it is there are several columns with Danish names, including REGIONNAVN, which translates into REGIONNAME, but also a geometry column for the different polygons.\n",
    "\n",
    "By specifiying the 'layer' argument of `plot_locations()` to be the dataframe, we can use it as a base layer. This gives os a non-interactive map created by using `matplotlib`. "
   ]
  },
  {
   "cell_type": "code",
   "execution_count": null,
   "metadata": {},
   "outputs": [],
   "source": [
    "geo_demo.plot_locations(limit=\"country\", limit_area=\"Denmark\", output_language=\"en\", layer=denmark)"
   ]
  },
  {
   "cell_type": "markdown",
   "metadata": {},
   "source": [
    "### Statistical Tools: Point Patterns"
   ]
  },
  {
   "cell_type": "markdown",
   "metadata": {},
   "source": [
    "Since `stedsans` is intended to be for more than a geographical visualization tool, it also comes with the ability to do Q-statistics, enabling a quick statistical analysis of distribution of the points by checking for complete spatial randomness.\n",
    "\n",
    "We will continue to use the `geo_demo` instance of `stedsans` from the previous section.\n",
    "\n",
    "To get the Q-statistics `stedsans` provides the function `get_quad_stats()`."
   ]
  },
  {
   "cell_type": "code",
   "execution_count": null,
   "metadata": {},
   "outputs": [],
   "source": [
    "geo_demo.get_quad_stats()"
   ]
  },
  {
   "cell_type": "markdown",
   "metadata": {},
   "source": [
    "`get_quad_stats()` provides us with a 𝜒2-value and a p-value to determine whether out points are truly completely random. In this instance, since we have a 𝜒2 = 140 with a p-value = 0.001, it does not seem that our points are complete random.\n",
    "\n",
    "We are also able to plot the points into quadrants using the `plot_quad_count()` function. \n",
    "\n",
    "In this example we specify the number of `squares` per axis to be 4."
   ]
  },
  {
   "cell_type": "code",
   "execution_count": null,
   "metadata": {},
   "outputs": [],
   "source": [
    "geo_demo.plot_quad_count(squares = 4)"
   ]
  },
  {
   "cell_type": "markdown",
   "metadata": {},
   "source": [
    "### Advanced Visualizations 1: Plotting cloropleth plots"
   ]
  },
  {
   "cell_type": "markdown",
   "metadata": {},
   "source": [
    "`stedsans` also provides the ability to plot cloropleth plots. This can be done by using the function `plot_cloropleth()`. "
   ]
  },
  {
   "cell_type": "markdown",
   "metadata": {},
   "source": [
    "By default `plot_cloropleth()` uses the entire world as a default base layer."
   ]
  },
  {
   "cell_type": "code",
   "execution_count": null,
   "metadata": {},
   "outputs": [],
   "source": [
    " geo_demo.plot_choropleth()"
   ]
  },
  {
   "cell_type": "markdown",
   "metadata": {},
   "source": [
    "When only having locations in Denmark (and France) such a plot might be deemed too informative. Luckily, similarly to the `plot_locations()` function, `plot_cloropleth()` also gives us the opportunity to pass a base layer into it with the `layer` argument. We will use the already initialized `denmark` layer."
   ]
  },
  {
   "cell_type": "code",
   "execution_count": null,
   "metadata": {},
   "outputs": [],
   "source": [
    "geo_demo.plot_choropleth(layer=denmark)"
   ]
  },
  {
   "cell_type": "markdown",
   "metadata": {},
   "source": [
    "By specifiying the layer we get a much more informative view of the distribution of tagged locations.\n",
    "\n",
    "`plot_cloropleth()` also has a `group_by` functionality, where you can specify the filling of the cloropleth plot to be grouped by a variable in the input layer."
   ]
  },
  {
   "cell_type": "code",
   "execution_count": null,
   "metadata": {
    "scrolled": true
   },
   "outputs": [],
   "source": [
    "geo_demo.plot_choropleth(layer=denmark, group_by='REGIONNAVN')"
   ]
  },
  {
   "cell_type": "markdown",
   "metadata": {},
   "source": [
    "If we only want to get a view of the location distribution of a specific region in Denmark, we can create a subset layer, `region_m`. Here we choose the region name column `REGIONNAVN` and subsets 'Region Midtjylland' which translates to the Central Jutland Region."
   ]
  },
  {
   "cell_type": "code",
   "execution_count": null,
   "metadata": {},
   "outputs": [],
   "source": [
    "region_m = denmark[denmark[\"REGIONNAVN\"] == \"Region Midtjylland\"] \n",
    "\n",
    "print(\"First five rows of the region_m dataframe:\\n\", region_m.head())\n",
    "\n",
    "print(\"\\nUnique regions in region_m:\", region_m[\"REGIONNAVN\"].unique())"
   ]
  },
  {
   "cell_type": "markdown",
   "metadata": {},
   "source": [
    "Now we have a layer only containing the `REGIONNAVN` called 'Region Midtjylland'.\n",
    "\n",
    "We can use this to create a cloropleth plot of only the locations located in Central Jutland Region in Denmark divided into the different municipalities. We will also make use of the `title` argument to make a nice title for the plot."
   ]
  },
  {
   "cell_type": "code",
   "execution_count": null,
   "metadata": {},
   "outputs": [],
   "source": [
    "geo_demo.plot_choropleth(layer=region_m, title = 'Central Jutland Region')"
   ]
  },
  {
   "cell_type": "markdown",
   "metadata": {},
   "source": [
    "If it was not clear before, it is now evidant that the most represented municipality in the text example, according to the language models, is the municipality of Aarhus. "
   ]
  },
  {
   "cell_type": "markdown",
   "metadata": {},
   "source": [
    "### Advanced Visualizations 2: Heatmaps"
   ]
  },
  {
   "cell_type": "markdown",
   "metadata": {},
   "source": [
    "# Den Store Danske - Jylland"
   ]
  },
  {
   "cell_type": "markdown",
   "metadata": {},
   "source": [
    "## Reading in the article"
   ]
  },
  {
   "cell_type": "code",
   "execution_count": null,
   "metadata": {},
   "outputs": [],
   "source": [
    "jylland_article = Articles.jylland()"
   ]
  },
  {
   "cell_type": "markdown",
   "metadata": {},
   "source": [
    "## Initialising stedsans object"
   ]
  },
  {
   "cell_type": "code",
   "execution_count": null,
   "metadata": {},
   "outputs": [],
   "source": [
    "geo_demo = stedsans(file = jylland_article, language = 'danish')"
   ]
  },
  {
   "cell_type": "markdown",
   "metadata": {},
   "source": [
    "## Plotting locations"
   ]
  },
  {
   "cell_type": "markdown",
   "metadata": {},
   "source": [
    "### Plotting on interactive leaflet map"
   ]
  },
  {
   "cell_type": "code",
   "execution_count": null,
   "metadata": {},
   "outputs": [],
   "source": [
    "geo_demo.plot_locations()"
   ]
  },
  {
   "cell_type": "markdown",
   "metadata": {},
   "source": [
    "## Plotting on shapefile layer"
   ]
  },
  {
   "cell_type": "code",
   "execution_count": null,
   "metadata": {},
   "outputs": [],
   "source": [
    "geo_demo.plot_locations(layer=danmark, on_map=True)"
   ]
  },
  {
   "cell_type": "code",
   "execution_count": null,
   "metadata": {},
   "outputs": [],
   "source": [
    "geo_demo.plot_locations(layer=region_m, on_map=True)"
   ]
  },
  {
   "cell_type": "markdown",
   "metadata": {},
   "source": [
    "## Plotting heatmaps"
   ]
  },
  {
   "cell_type": "markdown",
   "metadata": {},
   "source": [
    "### No restrictions"
   ]
  },
  {
   "cell_type": "code",
   "execution_count": null,
   "metadata": {},
   "outputs": [],
   "source": [
    "geo_demo.plot_heatmap()"
   ]
  },
  {
   "cell_type": "markdown",
   "metadata": {},
   "source": [
    "### Plotting only locations in denmark"
   ]
  },
  {
   "cell_type": "code",
   "execution_count": null,
   "metadata": {},
   "outputs": [],
   "source": [
    "geo_demo.plot_heatmap(limit = 'country', limit_area = 'Danmark')"
   ]
  },
  {
   "cell_type": "markdown",
   "metadata": {},
   "source": [
    "### Boudning search area to Region Midtjylland"
   ]
  },
  {
   "cell_type": "code",
   "execution_count": null,
   "metadata": {},
   "outputs": [],
   "source": [
    "geo_demo.plot_heatmap(bounding_box=((55.9,7.6),(56.6,10.9)), bounded=True)"
   ]
  },
  {
   "cell_type": "markdown",
   "metadata": {},
   "source": [
    "## Choropleth maps"
   ]
  },
  {
   "cell_type": "markdown",
   "metadata": {},
   "source": [
    "### Plotting choropleth map of points bounded to Region Midtjylland on map of Denmark"
   ]
  },
  {
   "cell_type": "code",
   "execution_count": null,
   "metadata": {},
   "outputs": [],
   "source": [
    "geo_demo.plot_choropleth()"
   ]
  },
  {
   "cell_type": "code",
   "execution_count": null,
   "metadata": {},
   "outputs": [],
   "source": [
    "geo_demo.plot_choropleth(layer=danmark, title='Jylland - Den Store Danske \\n Bounded to Region Midtjylland', group_by='DAGI_ID', bounding_box=((55.9,7.6),(56.6, 10.9)), bounded=True)"
   ]
  },
  {
   "cell_type": "markdown",
   "metadata": {},
   "source": [
    "### Plotting choropleth map grouped by region"
   ]
  },
  {
   "cell_type": "code",
   "execution_count": null,
   "metadata": {},
   "outputs": [],
   "source": [
    "geo_demo.plot_choropleth(layer=danmark, title='Jylland - Den Store Danske \\n Grouped by Region', group_by='REGIONNAVN', bounding_box=((54.6,7.8),(57.8, 15.2)), bounded=False)"
   ]
  },
  {
   "cell_type": "markdown",
   "metadata": {},
   "source": [
    "### Plotting choropleth map grouped by municipalites"
   ]
  },
  {
   "cell_type": "code",
   "execution_count": null,
   "metadata": {},
   "outputs": [],
   "source": [
    "geo_demo.plot_choropleth(layer=danmark, title='Jylland - Den Store Danske \\n Unbounded', group_by='DAGI_ID')"
   ]
  },
  {
   "cell_type": "markdown",
   "metadata": {},
   "source": [
    "## Quadrat Statistics"
   ]
  },
  {
   "cell_type": "code",
   "execution_count": null,
   "metadata": {},
   "outputs": [],
   "source": [
    "geo_demo.get_quad_stats(limit = 'country', limit_area = 'Danmark')"
   ]
  },
  {
   "cell_type": "code",
   "execution_count": null,
   "metadata": {},
   "outputs": [],
   "source": [
    "geo_demo.plot_quad_count(limit = 'country', limit_area = 'Danmark')"
   ]
  }
 ],
 "metadata": {
  "kernelspec": {
   "display_name": "Python 3",
   "language": "python",
   "name": "python3"
  },
  "language_info": {
   "codemirror_mode": {
    "name": "ipython",
    "version": 3
   },
   "file_extension": ".py",
   "mimetype": "text/x-python",
   "name": "python",
   "nbconvert_exporter": "python",
   "pygments_lexer": "ipython3",
   "version": "3.8.8"
  },
  "metadata": {
   "interpreter": {
    "hash": "10b97c6c21ac6fb33c26ad64795ebf8e3a140a6e7f42652360920d249612f124"
   }
  }
 },
 "nbformat": 4,
 "nbformat_minor": 2
}
