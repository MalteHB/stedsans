{
 "cells": [
  {
   "cell_type": "code",
   "execution_count": null,
   "metadata": {},
   "outputs": [],
   "source": [
    "from owslib.wms import WebMapService\n"
   ]
  },
  {
   "cell_type": "code",
   "execution_count": null,
   "metadata": {},
   "outputs": [],
   "source": [
    "wms = WebMapService('https://api.dataforsyningen.dk/service?request=GetCapabilities&servicename=natur_friluftskort&service=WMTS&version=1.0.0&token=46769b06502a730233dadb1868e5248f', version='1.1.1')"
   ]
  },
  {
   "cell_type": "code",
   "execution_count": null,
   "metadata": {},
   "outputs": [],
   "source": [
    "wms.identification.type"
   ]
  },
  {
   "cell_type": "code",
   "execution_count": null,
   "metadata": {},
   "outputs": [],
   "source": [
    "wms.identification.version"
   ]
  },
  {
   "cell_type": "code",
   "execution_count": null,
   "metadata": {},
   "outputs": [],
   "source": [
    "wms.identification.title"
   ]
  },
  {
   "cell_type": "code",
   "execution_count": null,
   "metadata": {},
   "outputs": [],
   "source": [
    "wms.identification.abstract"
   ]
  },
  {
   "cell_type": "code",
   "execution_count": null,
   "metadata": {},
   "outputs": [],
   "source": [
    "list(wms.contents)"
   ]
  },
  {
   "cell_type": "code",
   "execution_count": null,
   "metadata": {},
   "outputs": [],
   "source": [
    "wms['nfkort_3096'].title\n",
    "\n"
   ]
  },
  {
   "cell_type": "code",
   "execution_count": null,
   "metadata": {},
   "outputs": [],
   "source": [
    "wms['nfkort_3096'].queryable\n"
   ]
  },
  {
   "cell_type": "code",
   "execution_count": null,
   "metadata": {},
   "outputs": [],
   "source": [
    "wms['nfkort_3096'].opaque\n"
   ]
  },
  {
   "cell_type": "code",
   "execution_count": null,
   "metadata": {},
   "outputs": [],
   "source": [
    "wms['nfkort_3096'].boundingBox\n"
   ]
  },
  {
   "cell_type": "code",
   "execution_count": null,
   "metadata": {},
   "outputs": [],
   "source": [
    "wms['nfkort_3096'].boundingBoxWGS84\n"
   ]
  },
  {
   "cell_type": "code",
   "execution_count": null,
   "metadata": {},
   "outputs": [],
   "source": [
    "wms['nfkort_3096'].crsOptions\n"
   ]
  },
  {
   "cell_type": "code",
   "execution_count": null,
   "metadata": {},
   "outputs": [],
   "source": [
    "wms['nfkort_3096'].styles"
   ]
  },
  {
   "cell_type": "code",
   "execution_count": null,
   "metadata": {},
   "outputs": [],
   "source": [
    "[op.name for op in wms.operations]\n",
    "\n"
   ]
  },
  {
   "cell_type": "code",
   "execution_count": null,
   "metadata": {},
   "outputs": [],
   "source": [
    "wms.getOperationByName('GetMap').methods\n"
   ]
  },
  {
   "cell_type": "code",
   "execution_count": null,
   "metadata": {},
   "outputs": [],
   "source": [
    "wms.getOperationByName('GetMap').formatOptions\n"
   ]
  },
  {
   "cell_type": "code",
   "execution_count": null,
   "metadata": {},
   "outputs": [],
   "source": [
    "from IPython.core.display import HTML\n",
    "\n",
    "layer = wms.contents[\"nfkort\"]\n",
    "print(\"Abstract: \", layer.abstract)\n",
    "print(\"BBox: \", layer.boundingBoxWGS84)\n",
    "print(\"CRS: \", layer.crsOptions)\n",
    "print(\"Styles: \", layer.styles)\n",
    "print(\"Timestamps: \", layer.timepositions)\n",
    "HTML(layer.parent.abstract)"
   ]
  },
  {
   "cell_type": "code",
   "execution_count": null,
   "metadata": {},
   "outputs": [],
   "source": [
    "img = wms.getmap(layers=['nfkort'],\n",
    "                 styles=['default'],\n",
    "                 srs='EPSG:25832',\n",
    "                 bbox=(120000.0, 5900000.0, 1000000.0, 6500000.0),\n",
    "                 size=(600,600),\n",
    "                 format='image/png',\n",
    "                 transparent=True\n",
    "                 )"
   ]
  },
  {
   "cell_type": "code",
   "execution_count": null,
   "metadata": {},
   "outputs": [],
   "source": [
    "from IPython.display import Image\n",
    "Image(img.read())"
   ]
  },
  {
   "cell_type": "code",
   "execution_count": null,
   "metadata": {},
   "outputs": [],
   "source": [
    "import io\n",
    "image = io.BytesIO(img.read())"
   ]
  },
  {
   "cell_type": "code",
   "execution_count": null,
   "metadata": {},
   "outputs": [],
   "source": [
    "image"
   ]
  },
  {
   "cell_type": "code",
   "execution_count": null,
   "metadata": {},
   "outputs": [],
   "source": [
    "import cartopy\n",
    "import matplotlib.pyplot as plt\n",
    "data = plt.imread(image)"
   ]
  },
  {
   "cell_type": "code",
   "execution_count": null,
   "metadata": {},
   "outputs": [],
   "source": [
    "fig = plt.figure(figsize=(8,6))\n",
    "ax = fig.add_axes([0,0,1,1], projection=cartopy.crs.Mollweide())\n",
    "ax.imshow(data, origin=\"upper\", extent=(2.47833, 53.015, 17.5575, 58.4744),\n",
    "          transform=cartopy.crs.PlateCarree())\n",
    "ax.coastlines()\n",
    "plt.show()"
   ]
  },
  {
   "cell_type": "code",
   "execution_count": null,
   "metadata": {},
   "outputs": [],
   "source": [
    "import matplotlib.pyplot as plt\n",
    "import cartopy.crs as ccrs\n",
    "\n",
    "# Define resource for the NASA night-time illumination data.\n",
    "base_uri = 'https://map1c.vis.earthdata.nasa.gov/wmts-geo/wmts.cgi'\n",
    "layer_name = 'VIIRS_CityLights_2012'\n",
    "\n",
    "# Create a Cartopy crs for plain and rotated lat-lon projections.\n",
    "plain_crs = ccrs.PlateCarree()\n",
    "rotated_crs = ccrs.RotatedPole(pole_longitude=120.0, pole_latitude=45.0)\n",
    "\n",
    "fig = plt.figure()\n",
    "\n",
    "# Plot WMTS data in a specific region, over a plain lat-lon map.\n",
    "ax = fig.add_subplot(1, 2, 1, projection=plain_crs)\n",
    "ax.set_extent([-6, 3, 48, 58], crs=ccrs.PlateCarree())\n",
    "ax.coastlines(resolution='50m', color='yellow')\n",
    "ax.gridlines(color='lightgrey', linestyle='-')\n",
    "# Add WMTS imaging.\n",
    "ax.add_wmts(base_uri, layer_name=layer_name)\n",
    "\n",
    "# Plot WMTS data on a rotated map, over the same nominal region.\n",
    "ax = fig.add_subplot(1, 2, 2, projection=rotated_crs)\n",
    "ax.set_extent([-6, 3, 48, 58], crs=ccrs.PlateCarree())\n",
    "ax.coastlines(resolution='50m', color='yellow')\n",
    "ax.gridlines(color='lightgrey', linestyle='-')\n",
    "# Add WMTS imaging.\n",
    "ax.add_wmts(base_uri, layer_name=layer_name)\n",
    "\n",
    "plt.show()"
   ]
  },
  {
   "cell_type": "code",
   "execution_count": null,
   "metadata": {},
   "outputs": [],
   "source": []
  }
 ],
 "metadata": {
  "kernelspec": {
   "display_name": "Python 3.9.1 64-bit ('spatial_exam': conda)",
   "metadata": {
    "interpreter": {
     "hash": "c1d39149e1a3dcfa6ec4c5d8faeeb2a32bf957951cda5fe21730609829981529"
    }
   },
   "name": "python3"
  },
  "language_info": {
   "codemirror_mode": {
    "name": "ipython",
    "version": 3
   },
   "file_extension": ".py",
   "mimetype": "text/x-python",
   "name": "python",
   "nbconvert_exporter": "python",
   "pygments_lexer": "ipython3",
   "version": "3.9.1-final"
  }
 },
 "nbformat": 4,
 "nbformat_minor": 2
}
